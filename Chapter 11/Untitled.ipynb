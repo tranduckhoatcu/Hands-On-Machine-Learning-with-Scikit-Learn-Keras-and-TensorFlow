{
 "cells": [
  {
   "cell_type": "code",
   "execution_count": 4,
   "metadata": {},
   "outputs": [],
   "source": [
    "import tensorflow as tf\n",
    "from tensorflow import keras\n",
    "import matplotlib.pyplot as plt\n",
    "import numpy as np\n",
    "import pandas as pd"
   ]
  },
  {
   "cell_type": "code",
   "execution_count": 5,
   "metadata": {},
   "outputs": [],
   "source": [
    "np.random.seed(42)\n",
    "tf.random.set_seed(42)"
   ]
  },
  {
   "cell_type": "code",
   "execution_count": 7,
   "metadata": {},
   "outputs": [],
   "source": [
    "model = keras.models.Sequential()\n",
    "model.add(keras.layers.Flatten(input_shape=[32, 32, 3]))\n",
    "for _ in range(20):\n",
    "    model.add(keras.layers.Dense(100,\n",
    "                                 activation=\"elu\",\n",
    "                                 kernel_initializer=\"he_normal\"))\n"
   ]
  },
  {
   "cell_type": "code",
   "execution_count": 9,
   "metadata": {},
   "outputs": [],
   "source": [
    "model.add(keras.layers.Dense(10,activation=\"softmax\"))"
   ]
  },
  {
   "cell_type": "code",
   "execution_count": 10,
   "metadata": {},
   "outputs": [
    {
     "name": "stdout",
     "output_type": "stream",
     "text": [
      "Model: \"sequential_1\"\n",
      "_________________________________________________________________\n",
      "Layer (type)                 Output Shape              Param #   \n",
      "=================================================================\n",
      "flatten (Flatten)            (None, 3072)              0         \n",
      "_________________________________________________________________\n",
      "dense (Dense)                (None, 100)               307300    \n",
      "_________________________________________________________________\n",
      "dense_1 (Dense)              (None, 100)               10100     \n",
      "_________________________________________________________________\n",
      "dense_2 (Dense)              (None, 100)               10100     \n",
      "_________________________________________________________________\n",
      "dense_3 (Dense)              (None, 100)               10100     \n",
      "_________________________________________________________________\n",
      "dense_4 (Dense)              (None, 100)               10100     \n",
      "_________________________________________________________________\n",
      "dense_5 (Dense)              (None, 100)               10100     \n",
      "_________________________________________________________________\n",
      "dense_6 (Dense)              (None, 100)               10100     \n",
      "_________________________________________________________________\n",
      "dense_7 (Dense)              (None, 100)               10100     \n",
      "_________________________________________________________________\n",
      "dense_8 (Dense)              (None, 100)               10100     \n",
      "_________________________________________________________________\n",
      "dense_9 (Dense)              (None, 100)               10100     \n",
      "_________________________________________________________________\n",
      "dense_10 (Dense)             (None, 100)               10100     \n",
      "_________________________________________________________________\n",
      "dense_11 (Dense)             (None, 100)               10100     \n",
      "_________________________________________________________________\n",
      "dense_12 (Dense)             (None, 100)               10100     \n",
      "_________________________________________________________________\n",
      "dense_13 (Dense)             (None, 100)               10100     \n",
      "_________________________________________________________________\n",
      "dense_14 (Dense)             (None, 100)               10100     \n",
      "_________________________________________________________________\n",
      "dense_15 (Dense)             (None, 100)               10100     \n",
      "_________________________________________________________________\n",
      "dense_16 (Dense)             (None, 100)               10100     \n",
      "_________________________________________________________________\n",
      "dense_17 (Dense)             (None, 100)               10100     \n",
      "_________________________________________________________________\n",
      "dense_18 (Dense)             (None, 100)               10100     \n",
      "_________________________________________________________________\n",
      "dense_19 (Dense)             (None, 100)               10100     \n",
      "_________________________________________________________________\n",
      "dense_20 (Dense)             (None, 10)                1010      \n",
      "=================================================================\n",
      "Total params: 500,210\n",
      "Trainable params: 500,210\n",
      "Non-trainable params: 0\n",
      "_________________________________________________________________\n"
     ]
    }
   ],
   "source": [
    "model.summary()"
   ]
  },
  {
   "cell_type": "code",
   "execution_count": 11,
   "metadata": {},
   "outputs": [],
   "source": [
    "optimizer = keras.optimizers.Nadam(lr=5e-5)\n",
    "model.compile(loss=\"sparse_categorical_crossentropy\",\n",
    "             optimizer=optimizer,metrics=[\"accuracy\"])"
   ]
  },
  {
   "cell_type": "code",
   "execution_count": 12,
   "metadata": {
    "scrolled": true
   },
   "outputs": [
    {
     "name": "stdout",
     "output_type": "stream",
     "text": [
      "Downloading data from https://www.cs.toronto.edu/~kriz/cifar-10-python.tar.gz\n",
      "170500096/170498071 [==============================] - 41s 0us/step\n"
     ]
    }
   ],
   "source": [
    "(X_train_full, y_train_full), (X_test, y_test) = keras.datasets.cifar10.load_data()\n",
    "\n",
    "X_train = X_train_full[5000:]\n",
    "y_train = y_train_full[5000:]\n",
    "X_valid = X_train_full[:5000]\n",
    "y_valid = y_train_full[:5000]"
   ]
  },
  {
   "cell_type": "code",
   "execution_count": 17,
   "metadata": {},
   "outputs": [],
   "source": [
    "import os"
   ]
  },
  {
   "cell_type": "code",
   "execution_count": 18,
   "metadata": {},
   "outputs": [],
   "source": [
    "early_stopping_cb = keras.callbacks.EarlyStopping(patience=20)\n",
    "model_checkpoint_cb = keras.callbacks.ModelCheckpoint(\"my_cifar10_model.h5\",save_best_only=True)\n",
    "\n",
    "run_index = 1\n",
    "run_logdir = os.path.join(os.curdir, \"my_cifar10_log\", \"run_{:03d}\".format(run_index))\n",
    "tensorboard_cb = keras.callbacks.TensorBoard(run_logdir)\n",
    "callbacks = [early_stopping_cb, model_checkpoint_cb, tensorboard_cb]"
   ]
  },
  {
   "cell_type": "code",
   "execution_count": 20,
   "metadata": {},
   "outputs": [
    {
     "data": {
      "text/html": [
       "\n",
       "      <iframe id=\"tensorboard-frame-becf761d3f557c5a\" width=\"100%\" height=\"800\" frameborder=\"0\">\n",
       "      </iframe>\n",
       "      <script>\n",
       "        (function() {\n",
       "          const frame = document.getElementById(\"tensorboard-frame-becf761d3f557c5a\");\n",
       "          const url = new URL(\"/\", window.location);\n",
       "          const port = 6006;\n",
       "          if (port) {\n",
       "            url.port = port;\n",
       "          }\n",
       "          frame.src = url;\n",
       "        })();\n",
       "      </script>\n",
       "    "
      ],
      "text/plain": [
       "<IPython.core.display.HTML object>"
      ]
     },
     "metadata": {},
     "output_type": "display_data"
    }
   ],
   "source": [
    "%load_ext tensorboard\n",
    "%tensorboard --logdir=./my_cifar10_logs --port=6006"
   ]
  },
  {
   "cell_type": "code",
   "execution_count": 21,
   "metadata": {},
   "outputs": [
    {
     "name": "stdout",
     "output_type": "stream",
     "text": [
      "Epoch 1/100\n",
      "   1/1407 [..............................] - ETA: 0s - loss: 165.9660 - accuracy: 0.0625WARNING:tensorflow:From /Users/khoatran-xps/opt/anaconda3/lib/python3.7/site-packages/tensorflow/python/ops/summary_ops_v2.py:1277: stop (from tensorflow.python.eager.profiler) is deprecated and will be removed after 2020-07-01.\n",
      "Instructions for updating:\n",
      "use `tf.profiler.experimental.stop` instead.\n",
      "   2/1407 [..............................] - ETA: 38s - loss: 133.4808 - accuracy: 0.1250WARNING:tensorflow:Callbacks method `on_train_batch_end` is slow compared to the batch time (batch time: 0.0065s vs `on_train_batch_end` time: 0.0481s). Check your callbacks.\n",
      "1407/1407 [==============================] - 10s 7ms/step - loss: 3.9728 - accuracy: 0.1676 - val_loss: 2.2328 - val_accuracy: 0.2040\n",
      "Epoch 2/100\n",
      "1407/1407 [==============================] - 10s 7ms/step - loss: 2.0737 - accuracy: 0.2416 - val_loss: 2.0413 - val_accuracy: 0.2414\n",
      "Epoch 3/100\n",
      "1407/1407 [==============================] - 10s 7ms/step - loss: 1.9418 - accuracy: 0.2870 - val_loss: 1.9240 - val_accuracy: 0.3040\n",
      "Epoch 4/100\n",
      "1407/1407 [==============================] - 9s 7ms/step - loss: 1.8576 - accuracy: 0.3239 - val_loss: 1.9451 - val_accuracy: 0.3206\n",
      "Epoch 5/100\n",
      "1407/1407 [==============================] - 10s 7ms/step - loss: 1.7953 - accuracy: 0.3457 - val_loss: 1.8113 - val_accuracy: 0.3402\n",
      "Epoch 6/100\n",
      "1407/1407 [==============================] - 10s 7ms/step - loss: 1.7469 - accuracy: 0.3687 - val_loss: 1.7318 - val_accuracy: 0.3670\n",
      "Epoch 7/100\n",
      "1407/1407 [==============================] - 10s 7ms/step - loss: 1.7055 - accuracy: 0.3814 - val_loss: 1.7469 - val_accuracy: 0.3608\n",
      "Epoch 8/100\n",
      "1407/1407 [==============================] - 10s 7ms/step - loss: 1.6661 - accuracy: 0.3984 - val_loss: 1.6716 - val_accuracy: 0.3958\n",
      "Epoch 9/100\n",
      "1407/1407 [==============================] - 12s 9ms/step - loss: 1.6343 - accuracy: 0.4104 - val_loss: 1.6634 - val_accuracy: 0.4004\n",
      "Epoch 10/100\n",
      "1407/1407 [==============================] - 10s 7ms/step - loss: 1.6086 - accuracy: 0.4202 - val_loss: 1.6442 - val_accuracy: 0.4070\n",
      "Epoch 11/100\n",
      "1407/1407 [==============================] - 10s 7ms/step - loss: 1.5838 - accuracy: 0.4304 - val_loss: 1.6584 - val_accuracy: 0.3982\n",
      "Epoch 12/100\n",
      "1407/1407 [==============================] - 10s 7ms/step - loss: 1.5629 - accuracy: 0.4404 - val_loss: 1.6500 - val_accuracy: 0.4046\n",
      "Epoch 13/100\n",
      "1407/1407 [==============================] - 10s 7ms/step - loss: 1.5419 - accuracy: 0.4436 - val_loss: 1.6341 - val_accuracy: 0.4092\n",
      "Epoch 14/100\n",
      "1407/1407 [==============================] - 10s 7ms/step - loss: 1.5275 - accuracy: 0.4503 - val_loss: 1.5869 - val_accuracy: 0.4314\n",
      "Epoch 15/100\n",
      "1407/1407 [==============================] - 9s 7ms/step - loss: 1.5099 - accuracy: 0.4597 - val_loss: 1.5884 - val_accuracy: 0.4272\n",
      "Epoch 16/100\n",
      "1407/1407 [==============================] - 9s 7ms/step - loss: 1.4938 - accuracy: 0.4617 - val_loss: 1.5850 - val_accuracy: 0.4336\n",
      "Epoch 17/100\n",
      "1407/1407 [==============================] - 11s 8ms/step - loss: 1.4798 - accuracy: 0.4664 - val_loss: 1.5592 - val_accuracy: 0.4316\n",
      "Epoch 18/100\n",
      "1407/1407 [==============================] - 10s 7ms/step - loss: 1.4631 - accuracy: 0.4732 - val_loss: 1.5617 - val_accuracy: 0.4380\n",
      "Epoch 19/100\n",
      "1407/1407 [==============================] - 9s 7ms/step - loss: 1.4518 - accuracy: 0.4802 - val_loss: 1.5686 - val_accuracy: 0.4338\n",
      "Epoch 20/100\n",
      "1407/1407 [==============================] - 9s 7ms/step - loss: 1.4377 - accuracy: 0.4842 - val_loss: 1.5528 - val_accuracy: 0.4410\n",
      "Epoch 21/100\n",
      "1407/1407 [==============================] - 9s 7ms/step - loss: 1.4286 - accuracy: 0.4845 - val_loss: 1.5427 - val_accuracy: 0.4450\n",
      "Epoch 22/100\n",
      "1407/1407 [==============================] - 11s 8ms/step - loss: 1.4155 - accuracy: 0.4870 - val_loss: 1.5323 - val_accuracy: 0.4492\n",
      "Epoch 23/100\n",
      "1407/1407 [==============================] - 10s 7ms/step - loss: 1.4024 - accuracy: 0.4936 - val_loss: 1.5517 - val_accuracy: 0.4524\n",
      "Epoch 24/100\n",
      "1407/1407 [==============================] - 10s 7ms/step - loss: 1.3903 - accuracy: 0.4995 - val_loss: 1.5449 - val_accuracy: 0.4526\n",
      "Epoch 25/100\n",
      "1407/1407 [==============================] - 10s 7ms/step - loss: 1.3782 - accuracy: 0.5042 - val_loss: 1.5082 - val_accuracy: 0.4628\n",
      "Epoch 26/100\n",
      "1407/1407 [==============================] - 10s 7ms/step - loss: 1.3677 - accuracy: 0.5092 - val_loss: 1.5662 - val_accuracy: 0.4370\n",
      "Epoch 27/100\n",
      "1407/1407 [==============================] - 10s 7ms/step - loss: 1.3574 - accuracy: 0.5139 - val_loss: 1.5071 - val_accuracy: 0.4632\n",
      "Epoch 28/100\n",
      "1407/1407 [==============================] - 10s 7ms/step - loss: 1.3470 - accuracy: 0.5155 - val_loss: 1.5156 - val_accuracy: 0.4556\n",
      "Epoch 29/100\n",
      "1407/1407 [==============================] - 10s 7ms/step - loss: 1.3393 - accuracy: 0.5198 - val_loss: 1.5448 - val_accuracy: 0.4478\n",
      "Epoch 30/100\n",
      "1407/1407 [==============================] - 10s 7ms/step - loss: 1.3278 - accuracy: 0.5220 - val_loss: 1.5652 - val_accuracy: 0.4570\n",
      "Epoch 31/100\n",
      "1407/1407 [==============================] - 10s 7ms/step - loss: 1.3177 - accuracy: 0.5272 - val_loss: 1.5367 - val_accuracy: 0.4552\n",
      "Epoch 32/100\n",
      "1407/1407 [==============================] - 10s 7ms/step - loss: 1.3066 - accuracy: 0.5305 - val_loss: 1.5182 - val_accuracy: 0.4554\n",
      "Epoch 33/100\n",
      "1407/1407 [==============================] - 9s 7ms/step - loss: 1.3029 - accuracy: 0.5312 - val_loss: 1.5323 - val_accuracy: 0.4714\n",
      "Epoch 34/100\n",
      "1407/1407 [==============================] - 9s 7ms/step - loss: 1.2914 - accuracy: 0.5349 - val_loss: 1.5323 - val_accuracy: 0.4746\n",
      "Epoch 35/100\n",
      "1407/1407 [==============================] - 10s 7ms/step - loss: 1.2840 - accuracy: 0.5377 - val_loss: 1.5656 - val_accuracy: 0.4538\n",
      "Epoch 36/100\n",
      "1407/1407 [==============================] - 10s 7ms/step - loss: 1.2763 - accuracy: 0.5426 - val_loss: 1.5476 - val_accuracy: 0.4662\n",
      "Epoch 37/100\n",
      "1407/1407 [==============================] - 9s 6ms/step - loss: 1.2665 - accuracy: 0.5434 - val_loss: 1.5116 - val_accuracy: 0.4806\n",
      "Epoch 38/100\n",
      "1407/1407 [==============================] - 9s 7ms/step - loss: 1.2577 - accuracy: 0.5511 - val_loss: 1.5310 - val_accuracy: 0.4628\n",
      "Epoch 39/100\n",
      "1407/1407 [==============================] - 9s 6ms/step - loss: 1.2496 - accuracy: 0.5508 - val_loss: 1.5356 - val_accuracy: 0.4618\n",
      "Epoch 40/100\n",
      "1407/1407 [==============================] - 9s 7ms/step - loss: 1.2416 - accuracy: 0.5542 - val_loss: 1.5385 - val_accuracy: 0.4656\n",
      "Epoch 41/100\n",
      "1407/1407 [==============================] - 10s 7ms/step - loss: 1.2357 - accuracy: 0.5551 - val_loss: 1.5189 - val_accuracy: 0.4740\n",
      "Epoch 42/100\n",
      "1407/1407 [==============================] - 10s 7ms/step - loss: 1.2265 - accuracy: 0.5604 - val_loss: 1.5303 - val_accuracy: 0.4688\n",
      "Epoch 43/100\n",
      "1407/1407 [==============================] - 10s 7ms/step - loss: 1.2176 - accuracy: 0.5639 - val_loss: 1.5365 - val_accuracy: 0.4732\n",
      "Epoch 44/100\n",
      "1407/1407 [==============================] - 10s 7ms/step - loss: 1.2098 - accuracy: 0.5662 - val_loss: 1.6078 - val_accuracy: 0.4538\n",
      "Epoch 45/100\n",
      "1407/1407 [==============================] - 10s 7ms/step - loss: 1.2015 - accuracy: 0.5677 - val_loss: 1.5182 - val_accuracy: 0.4872\n",
      "Epoch 46/100\n",
      "1407/1407 [==============================] - 10s 7ms/step - loss: 1.1971 - accuracy: 0.5696 - val_loss: 1.5506 - val_accuracy: 0.4724\n",
      "Epoch 47/100\n",
      "1407/1407 [==============================] - 10s 7ms/step - loss: 1.1846 - accuracy: 0.5734 - val_loss: 1.5326 - val_accuracy: 0.4834\n"
     ]
    },
    {
     "data": {
      "text/plain": [
       "<tensorflow.python.keras.callbacks.History at 0x7ffbfd4516d0>"
      ]
     },
     "execution_count": 21,
     "metadata": {},
     "output_type": "execute_result"
    }
   ],
   "source": [
    "model.fit(X_train, y_train, epochs=100, validation_data=(X_valid, y_valid),\n",
    "         callbacks=callbacks)"
   ]
  },
  {
   "cell_type": "code",
   "execution_count": 22,
   "metadata": {},
   "outputs": [
    {
     "name": "stdout",
     "output_type": "stream",
     "text": [
      "157/157 [==============================] - 0s 2ms/step - loss: 1.5071 - accuracy: 0.1304\n"
     ]
    },
    {
     "data": {
      "text/plain": [
       "[1.507094144821167, 0.13040000200271606]"
      ]
     },
     "execution_count": 22,
     "metadata": {},
     "output_type": "execute_result"
    }
   ],
   "source": [
    "model = keras.models.load_model(\"my_cifar10_model.h5\")\n",
    "model.evaluate(X_valid, y_valid)"
   ]
  },
  {
   "cell_type": "code",
   "execution_count": null,
   "metadata": {},
   "outputs": [],
   "source": []
  }
 ],
 "metadata": {
  "kernelspec": {
   "display_name": "Python 3",
   "language": "python",
   "name": "python3"
  },
  "language_info": {
   "codemirror_mode": {
    "name": "ipython",
    "version": 3
   },
   "file_extension": ".py",
   "mimetype": "text/x-python",
   "name": "python",
   "nbconvert_exporter": "python",
   "pygments_lexer": "ipython3",
   "version": "3.7.7"
  }
 },
 "nbformat": 4,
 "nbformat_minor": 4
}

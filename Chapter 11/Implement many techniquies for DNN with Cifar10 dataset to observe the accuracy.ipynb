{
 "cells": [
  {
   "cell_type": "code",
   "execution_count": 1,
   "metadata": {},
   "outputs": [],
   "source": [
    "import tensorflow as tf\n",
    "from tensorflow import keras\n",
    "import matplotlib.pyplot as plt\n",
    "import numpy as np\n",
    "import pandas as pd"
   ]
  },
  {
   "cell_type": "code",
   "execution_count": 2,
   "metadata": {},
   "outputs": [],
   "source": [
    "np.random.seed(42)\n",
    "tf.random.set_seed(42)"
   ]
  },
  {
   "cell_type": "code",
   "execution_count": 3,
   "metadata": {},
   "outputs": [],
   "source": [
    "model = keras.models.Sequential()\n",
    "model.add(keras.layers.Flatten(input_shape=[32, 32, 3]))\n",
    "for _ in range(20):\n",
    "    model.add(keras.layers.Dense(100,\n",
    "                                 activation=\"elu\",\n",
    "                                 kernel_initializer=\"he_normal\"))\n"
   ]
  },
  {
   "cell_type": "code",
   "execution_count": 4,
   "metadata": {},
   "outputs": [],
   "source": [
    "model.add(keras.layers.Dense(10,activation=\"softmax\"))"
   ]
  },
  {
   "cell_type": "code",
   "execution_count": 5,
   "metadata": {},
   "outputs": [
    {
     "name": "stdout",
     "output_type": "stream",
     "text": [
      "Model: \"sequential\"\n",
      "_________________________________________________________________\n",
      "Layer (type)                 Output Shape              Param #   \n",
      "=================================================================\n",
      "flatten (Flatten)            (None, 3072)              0         \n",
      "_________________________________________________________________\n",
      "dense (Dense)                (None, 100)               307300    \n",
      "_________________________________________________________________\n",
      "dense_1 (Dense)              (None, 100)               10100     \n",
      "_________________________________________________________________\n",
      "dense_2 (Dense)              (None, 100)               10100     \n",
      "_________________________________________________________________\n",
      "dense_3 (Dense)              (None, 100)               10100     \n",
      "_________________________________________________________________\n",
      "dense_4 (Dense)              (None, 100)               10100     \n",
      "_________________________________________________________________\n",
      "dense_5 (Dense)              (None, 100)               10100     \n",
      "_________________________________________________________________\n",
      "dense_6 (Dense)              (None, 100)               10100     \n",
      "_________________________________________________________________\n",
      "dense_7 (Dense)              (None, 100)               10100     \n",
      "_________________________________________________________________\n",
      "dense_8 (Dense)              (None, 100)               10100     \n",
      "_________________________________________________________________\n",
      "dense_9 (Dense)              (None, 100)               10100     \n",
      "_________________________________________________________________\n",
      "dense_10 (Dense)             (None, 100)               10100     \n",
      "_________________________________________________________________\n",
      "dense_11 (Dense)             (None, 100)               10100     \n",
      "_________________________________________________________________\n",
      "dense_12 (Dense)             (None, 100)               10100     \n",
      "_________________________________________________________________\n",
      "dense_13 (Dense)             (None, 100)               10100     \n",
      "_________________________________________________________________\n",
      "dense_14 (Dense)             (None, 100)               10100     \n",
      "_________________________________________________________________\n",
      "dense_15 (Dense)             (None, 100)               10100     \n",
      "_________________________________________________________________\n",
      "dense_16 (Dense)             (None, 100)               10100     \n",
      "_________________________________________________________________\n",
      "dense_17 (Dense)             (None, 100)               10100     \n",
      "_________________________________________________________________\n",
      "dense_18 (Dense)             (None, 100)               10100     \n",
      "_________________________________________________________________\n",
      "dense_19 (Dense)             (None, 100)               10100     \n",
      "_________________________________________________________________\n",
      "dense_20 (Dense)             (None, 10)                1010      \n",
      "=================================================================\n",
      "Total params: 500,210\n",
      "Trainable params: 500,210\n",
      "Non-trainable params: 0\n",
      "_________________________________________________________________\n"
     ]
    }
   ],
   "source": [
    "model.summary()"
   ]
  },
  {
   "cell_type": "code",
   "execution_count": 6,
   "metadata": {},
   "outputs": [],
   "source": [
    "optimizer = keras.optimizers.Nadam(lr=5e-5)\n",
    "model.compile(loss=\"sparse_categorical_crossentropy\",\n",
    "             optimizer=optimizer,metrics=[\"accuracy\"])"
   ]
  },
  {
   "cell_type": "code",
   "execution_count": 7,
   "metadata": {
    "scrolled": true
   },
   "outputs": [],
   "source": [
    "(X_train_full, y_train_full), (X_test, y_test) = keras.datasets.cifar10.load_data()\n",
    "\n",
    "X_train = X_train_full[5000:]\n",
    "y_train = y_train_full[5000:]\n",
    "X_valid = X_train_full[:5000]\n",
    "y_valid = y_train_full[:5000]"
   ]
  },
  {
   "cell_type": "code",
   "execution_count": 8,
   "metadata": {},
   "outputs": [],
   "source": [
    "import os"
   ]
  },
  {
   "cell_type": "code",
   "execution_count": 9,
   "metadata": {},
   "outputs": [],
   "source": [
    "early_stopping_cb = keras.callbacks.EarlyStopping(patience=20)\n",
    "model_checkpoint_cb = keras.callbacks.ModelCheckpoint(\"my_cifar10_model.h5\",save_best_only=True)\n",
    "\n",
    "run_index = 1\n",
    "run_logdir = os.path.join(os.curdir, \"my_cifar10_log\", \"run_{:03d}\".format(run_index))\n",
    "tensorboard_cb = keras.callbacks.TensorBoard(run_logdir)\n",
    "callbacks = [early_stopping_cb, model_checkpoint_cb, tensorboard_cb]"
   ]
  },
  {
   "cell_type": "code",
   "execution_count": 10,
   "metadata": {
    "scrolled": true
   },
   "outputs": [
    {
     "data": {
      "text/plain": [
       "Reusing TensorBoard on port 6006 (pid 2864), started 0:20:50 ago. (Use '!kill 2864' to kill it.)"
      ]
     },
     "metadata": {},
     "output_type": "display_data"
    },
    {
     "data": {
      "text/html": [
       "\n",
       "      <iframe id=\"tensorboard-frame-66f4193fa4d7722\" width=\"100%\" height=\"800\" frameborder=\"0\">\n",
       "      </iframe>\n",
       "      <script>\n",
       "        (function() {\n",
       "          const frame = document.getElementById(\"tensorboard-frame-66f4193fa4d7722\");\n",
       "          const url = new URL(\"/\", window.location);\n",
       "          url.port = 6006;\n",
       "          frame.src = url;\n",
       "        })();\n",
       "      </script>\n",
       "  "
      ],
      "text/plain": [
       "<IPython.core.display.HTML object>"
      ]
     },
     "metadata": {},
     "output_type": "display_data"
    }
   ],
   "source": [
    "%load_ext tensorboard\n",
    "%tensorboard --logdir=./my_cifar10_logs --port=6006"
   ]
  },
  {
   "cell_type": "code",
   "execution_count": 11,
   "metadata": {},
   "outputs": [
    {
     "name": "stdout",
     "output_type": "stream",
     "text": [
      "[name: \"/device:CPU:0\"\n",
      "device_type: \"CPU\"\n",
      "memory_limit: 268435456\n",
      "locality {\n",
      "}\n",
      "incarnation: 16549731922312511031\n",
      ", name: \"/device:GPU:0\"\n",
      "device_type: \"GPU\"\n",
      "memory_limit: 3142752667\n",
      "locality {\n",
      "  bus_id: 1\n",
      "  links {\n",
      "  }\n",
      "}\n",
      "incarnation: 4586947970703211115\n",
      "physical_device_desc: \"device: 0, name: GeForce GTX 1050, pci bus id: 0000:01:00.0, compute capability: 6.1\"\n",
      "]\n"
     ]
    }
   ],
   "source": [
    "from tensorflow.python.client import device_lib \n",
    "print(device_lib.list_local_devices())"
   ]
  },
  {
   "cell_type": "code",
   "execution_count": 12,
   "metadata": {},
   "outputs": [
    {
     "name": "stdout",
     "output_type": "stream",
     "text": [
      "Train on 45000 samples, validate on 5000 samples\n",
      "Epoch 1/100\n",
      "45000/45000 [==============================] - 18s 397us/sample - loss: 4.1080 - accuracy: 0.1669 - val_loss: 2.2234 - val_accuracy: 0.1922\n",
      "Epoch 2/100\n",
      "45000/45000 [==============================] - 14s 307us/sample - loss: 2.0740 - accuracy: 0.2455 - val_loss: 1.9972 - val_accuracy: 0.2780\n",
      "Epoch 3/100\n",
      "45000/45000 [==============================] - 14s 317us/sample - loss: 1.9492 - accuracy: 0.2894 - val_loss: 1.9535 - val_accuracy: 0.3014\n",
      "Epoch 4/100\n",
      "45000/45000 [==============================] - 14s 319us/sample - loss: 1.8656 - accuracy: 0.3206 - val_loss: 1.8267 - val_accuracy: 0.3382\n",
      "Epoch 5/100\n",
      "45000/45000 [==============================] - 15s 325us/sample - loss: 1.7994 - accuracy: 0.3474 - val_loss: 1.7737 - val_accuracy: 0.3558\n",
      "Epoch 6/100\n",
      "45000/45000 [==============================] - 14s 307us/sample - loss: 1.7557 - accuracy: 0.3644 - val_loss: 1.7442 - val_accuracy: 0.3714\n",
      "Epoch 7/100\n",
      "45000/45000 [==============================] - 14s 309us/sample - loss: 1.7102 - accuracy: 0.3805 - val_loss: 1.7654 - val_accuracy: 0.3632\n",
      "Epoch 8/100\n",
      "45000/45000 [==============================] - 14s 319us/sample - loss: 1.6736 - accuracy: 0.3957 - val_loss: 1.7275 - val_accuracy: 0.3812\n",
      "Epoch 9/100\n",
      "45000/45000 [==============================] - 14s 316us/sample - loss: 1.6417 - accuracy: 0.4076 - val_loss: 1.6683 - val_accuracy: 0.4000\n",
      "Epoch 10/100\n",
      "45000/45000 [==============================] - 14s 311us/sample - loss: 1.6150 - accuracy: 0.4190 - val_loss: 1.6568 - val_accuracy: 0.3934\n",
      "Epoch 11/100\n",
      "45000/45000 [==============================] - 14s 309us/sample - loss: 1.5930 - accuracy: 0.4264 - val_loss: 1.6133 - val_accuracy: 0.4158\n",
      "Epoch 12/100\n",
      "45000/45000 [==============================] - 14s 304us/sample - loss: 1.5735 - accuracy: 0.4338 - val_loss: 1.6429 - val_accuracy: 0.4098\n",
      "Epoch 13/100\n",
      "45000/45000 [==============================] - 14s 313us/sample - loss: 1.5529 - accuracy: 0.4428 - val_loss: 1.5923 - val_accuracy: 0.4262\n",
      "Epoch 14/100\n",
      "45000/45000 [==============================] - 14s 306us/sample - loss: 1.5359 - accuracy: 0.4492 - val_loss: 1.5983 - val_accuracy: 0.4272\n",
      "Epoch 15/100\n",
      "45000/45000 [==============================] - 14s 314us/sample - loss: 1.5204 - accuracy: 0.4504 - val_loss: 1.5587 - val_accuracy: 0.4358\n",
      "Epoch 16/100\n",
      "45000/45000 [==============================] - 14s 305us/sample - loss: 1.5030 - accuracy: 0.4594 - val_loss: 1.6176 - val_accuracy: 0.4228\n",
      "Epoch 17/100\n",
      "45000/45000 [==============================] - 14s 322us/sample - loss: 1.4906 - accuracy: 0.4648 - val_loss: 1.6252 - val_accuracy: 0.4186\n",
      "Epoch 18/100\n",
      "45000/45000 [==============================] - 14s 307us/sample - loss: 1.4785 - accuracy: 0.4704 - val_loss: 1.5493 - val_accuracy: 0.4488\n",
      "Epoch 19/100\n",
      "45000/45000 [==============================] - 14s 304us/sample - loss: 1.4644 - accuracy: 0.4769 - val_loss: 1.5684 - val_accuracy: 0.4340\n",
      "Epoch 20/100\n",
      "45000/45000 [==============================] - 14s 302us/sample - loss: 1.4544 - accuracy: 0.4763 - val_loss: 1.5465 - val_accuracy: 0.4414\n",
      "Epoch 21/100\n",
      "45000/45000 [==============================] - 14s 312us/sample - loss: 1.4402 - accuracy: 0.4825 - val_loss: 1.5698 - val_accuracy: 0.4414\n",
      "Epoch 22/100\n",
      "45000/45000 [==============================] - 14s 314us/sample - loss: 1.4278 - accuracy: 0.4875 - val_loss: 1.5787 - val_accuracy: 0.4312\n",
      "Epoch 23/100\n",
      "45000/45000 [==============================] - 14s 304us/sample - loss: 1.4181 - accuracy: 0.4909 - val_loss: 1.5720 - val_accuracy: 0.4382\n",
      "Epoch 24/100\n",
      "45000/45000 [==============================] - 14s 306us/sample - loss: 1.4033 - accuracy: 0.4961 - val_loss: 1.5469 - val_accuracy: 0.4520\n",
      "Epoch 25/100\n",
      "45000/45000 [==============================] - 14s 315us/sample - loss: 1.3987 - accuracy: 0.4978 - val_loss: 1.5509 - val_accuracy: 0.4482\n",
      "Epoch 26/100\n",
      "45000/45000 [==============================] - 14s 311us/sample - loss: 1.3848 - accuracy: 0.5027 - val_loss: 1.5487 - val_accuracy: 0.4474\n",
      "Epoch 27/100\n",
      "45000/45000 [==============================] - 15s 334us/sample - loss: 1.3773 - accuracy: 0.5026 - val_loss: 1.5219 - val_accuracy: 0.4624\n",
      "Epoch 28/100\n",
      "45000/45000 [==============================] - 15s 326us/sample - loss: 1.3664 - accuracy: 0.5095 - val_loss: 1.5397 - val_accuracy: 0.4528\n",
      "Epoch 29/100\n",
      "45000/45000 [==============================] - 14s 317us/sample - loss: 1.3535 - accuracy: 0.5136 - val_loss: 1.5111 - val_accuracy: 0.4704\n",
      "Epoch 30/100\n",
      "45000/45000 [==============================] - 14s 313us/sample - loss: 1.3502 - accuracy: 0.5145 - val_loss: 1.5016 - val_accuracy: 0.4692\n",
      "Epoch 31/100\n",
      "45000/45000 [==============================] - 14s 318us/sample - loss: 1.3377 - accuracy: 0.5190 - val_loss: 1.5347 - val_accuracy: 0.4514\n",
      "Epoch 32/100\n",
      "45000/45000 [==============================] - 13s 300us/sample - loss: 1.3303 - accuracy: 0.5206 - val_loss: 1.5293 - val_accuracy: 0.4618\n",
      "Epoch 33/100\n",
      "45000/45000 [==============================] - 14s 317us/sample - loss: 1.3195 - accuracy: 0.5245 - val_loss: 1.5125 - val_accuracy: 0.4602\n",
      "Epoch 34/100\n",
      "45000/45000 [==============================] - 14s 304us/sample - loss: 1.3112 - accuracy: 0.5269 - val_loss: 1.5090 - val_accuracy: 0.4724\n",
      "Epoch 35/100\n",
      "45000/45000 [==============================] - 14s 301us/sample - loss: 1.3052 - accuracy: 0.5284 - val_loss: 1.5027 - val_accuracy: 0.4662\n",
      "Epoch 36/100\n",
      "45000/45000 [==============================] - 14s 303us/sample - loss: 1.2931 - accuracy: 0.5350 - val_loss: 1.5086 - val_accuracy: 0.4646\n",
      "Epoch 37/100\n",
      "45000/45000 [==============================] - 14s 310us/sample - loss: 1.2872 - accuracy: 0.5369 - val_loss: 1.5135 - val_accuracy: 0.4616\n",
      "Epoch 38/100\n",
      "45000/45000 [==============================] - 14s 308us/sample - loss: 1.2776 - accuracy: 0.5381 - val_loss: 1.5128 - val_accuracy: 0.4716\n",
      "Epoch 39/100\n",
      "45000/45000 [==============================] - 14s 303us/sample - loss: 1.2732 - accuracy: 0.5418 - val_loss: 1.5221 - val_accuracy: 0.4672\n",
      "Epoch 40/100\n",
      "45000/45000 [==============================] - 14s 305us/sample - loss: 1.2629 - accuracy: 0.5454 - val_loss: 1.5358 - val_accuracy: 0.4698\n",
      "Epoch 41/100\n",
      "45000/45000 [==============================] - 14s 306us/sample - loss: 1.2586 - accuracy: 0.5479 - val_loss: 1.5210 - val_accuracy: 0.4748\n",
      "Epoch 42/100\n",
      "45000/45000 [==============================] - 14s 301us/sample - loss: 1.2512 - accuracy: 0.5500 - val_loss: 1.5256 - val_accuracy: 0.4706\n",
      "Epoch 43/100\n",
      "45000/45000 [==============================] - 13s 299us/sample - loss: 1.2406 - accuracy: 0.5531 - val_loss: 1.5185 - val_accuracy: 0.4714\n",
      "Epoch 44/100\n",
      "45000/45000 [==============================] - 14s 300us/sample - loss: 1.2315 - accuracy: 0.5561 - val_loss: 1.5503 - val_accuracy: 0.4710\n",
      "Epoch 45/100\n",
      "45000/45000 [==============================] - 14s 303us/sample - loss: 1.2291 - accuracy: 0.5572 - val_loss: 1.4945 - val_accuracy: 0.4766\n",
      "Epoch 46/100\n",
      "45000/45000 [==============================] - 14s 305us/sample - loss: 1.2209 - accuracy: 0.5612 - val_loss: 1.5005 - val_accuracy: 0.4836\n",
      "Epoch 47/100\n",
      "45000/45000 [==============================] - 14s 303us/sample - loss: 1.2112 - accuracy: 0.5672 - val_loss: 1.5614 - val_accuracy: 0.4632\n",
      "Epoch 48/100\n",
      "45000/45000 [==============================] - 14s 300us/sample - loss: 1.2083 - accuracy: 0.5640 - val_loss: 1.5547 - val_accuracy: 0.4658\n",
      "Epoch 49/100\n",
      "45000/45000 [==============================] - 14s 304us/sample - loss: 1.2003 - accuracy: 0.5686 - val_loss: 1.5358 - val_accuracy: 0.4750\n",
      "Epoch 50/100\n",
      "45000/45000 [==============================] - 14s 310us/sample - loss: 1.1950 - accuracy: 0.5671 - val_loss: 1.5474 - val_accuracy: 0.4714\n",
      "Epoch 51/100\n",
      "45000/45000 [==============================] - 14s 303us/sample - loss: 1.1886 - accuracy: 0.5720 - val_loss: 1.5800 - val_accuracy: 0.4632\n",
      "Epoch 52/100\n",
      "45000/45000 [==============================] - 14s 314us/sample - loss: 1.1806 - accuracy: 0.5751 - val_loss: 1.5465 - val_accuracy: 0.4614\n",
      "Epoch 53/100\n",
      "45000/45000 [==============================] - 14s 301us/sample - loss: 1.1745 - accuracy: 0.5778 - val_loss: 1.5889 - val_accuracy: 0.4630\n",
      "Epoch 54/100\n"
     ]
    },
    {
     "name": "stdout",
     "output_type": "stream",
     "text": [
      "45000/45000 [==============================] - 14s 315us/sample - loss: 1.1666 - accuracy: 0.5788 - val_loss: 1.5705 - val_accuracy: 0.4696\n",
      "Epoch 55/100\n",
      "45000/45000 [==============================] - 15s 329us/sample - loss: 1.1619 - accuracy: 0.5824 - val_loss: 1.5841 - val_accuracy: 0.4576\n",
      "Epoch 56/100\n",
      "45000/45000 [==============================] - 14s 316us/sample - loss: 1.1515 - accuracy: 0.5851 - val_loss: 1.5715 - val_accuracy: 0.4730\n",
      "Epoch 57/100\n",
      "45000/45000 [==============================] - 14s 312us/sample - loss: 1.1512 - accuracy: 0.5844 - val_loss: 1.5792 - val_accuracy: 0.4602\n",
      "Epoch 58/100\n",
      "45000/45000 [==============================] - 14s 308us/sample - loss: 1.1393 - accuracy: 0.5887 - val_loss: 1.5564 - val_accuracy: 0.4638\n",
      "Epoch 59/100\n",
      "45000/45000 [==============================] - 14s 312us/sample - loss: 1.1378 - accuracy: 0.5905 - val_loss: 1.5643 - val_accuracy: 0.4684\n",
      "Epoch 60/100\n",
      "45000/45000 [==============================] - 13s 298us/sample - loss: 1.1281 - accuracy: 0.5943 - val_loss: 1.5730 - val_accuracy: 0.4650\n",
      "Epoch 61/100\n",
      "45000/45000 [==============================] - 14s 305us/sample - loss: 1.1228 - accuracy: 0.5964 - val_loss: 1.5607 - val_accuracy: 0.4708\n",
      "Epoch 62/100\n",
      "45000/45000 [==============================] - 14s 310us/sample - loss: 1.1176 - accuracy: 0.5974 - val_loss: 1.5759 - val_accuracy: 0.4786\n",
      "Epoch 63/100\n",
      "45000/45000 [==============================] - 14s 302us/sample - loss: 1.1097 - accuracy: 0.6000 - val_loss: 1.6111 - val_accuracy: 0.4618\n",
      "Epoch 64/100\n",
      "45000/45000 [==============================] - 14s 313us/sample - loss: 1.1128 - accuracy: 0.6005 - val_loss: 1.6127 - val_accuracy: 0.4582\n",
      "Epoch 65/100\n",
      "45000/45000 [==============================] - 14s 303us/sample - loss: 1.0994 - accuracy: 0.6063 - val_loss: 1.6505 - val_accuracy: 0.4618\n"
     ]
    }
   ],
   "source": [
    "with tf.device('/device:GPU:0'):\n",
    "    model.fit(X_train, y_train, epochs=100, validation_data=(X_valid, y_valid),\n",
    "         callbacks=callbacks,use_multiprocessing=True, workers=8)"
   ]
  },
  {
   "cell_type": "code",
   "execution_count": 13,
   "metadata": {},
   "outputs": [
    {
     "name": "stdout",
     "output_type": "stream",
     "text": [
      "5000/5000 [==============================] - 1s 118us/sample - loss: 1.4945 - accuracy: 0.4766\n"
     ]
    },
    {
     "data": {
      "text/plain": [
       "[1.4945455801010132, 0.4766]"
      ]
     },
     "execution_count": 13,
     "metadata": {},
     "output_type": "execute_result"
    }
   ],
   "source": [
    "model = keras.models.load_model(\"my_cifar10_model.h5\")\n",
    "model.evaluate(X_valid, y_valid)"
   ]
  },
  {
   "cell_type": "code",
   "execution_count": 14,
   "metadata": {},
   "outputs": [],
   "source": [
    "keras.backend.clear_session()\n",
    "tf.random.set_seed(42)\n",
    "np.random.seed(42)\n",
    "\n",
    "model = keras.models.Sequential()\n",
    "model.add(keras.layers.Flatten(input_shape=[32, 32, 3]))\n",
    "model.add(keras.layers.BatchNormalization())\n",
    "for _ in range(20):\n",
    "    model.add(keras.layers.Dense(100,kernel_initializer=\"he_normal\"))\n",
    "    model.add(keras.layers.BatchNormalization())\n",
    "    model.add(keras.layers.Activation(\"elu\"))\n",
    "model.add(keras.layers.Dense(10,activation=\"softmax\"))\n"
   ]
  },
  {
   "cell_type": "code",
   "execution_count": 15,
   "metadata": {},
   "outputs": [
    {
     "name": "stdout",
     "output_type": "stream",
     "text": [
      "Model: \"sequential\"\n",
      "_________________________________________________________________\n",
      "Layer (type)                 Output Shape              Param #   \n",
      "=================================================================\n",
      "flatten (Flatten)            (None, 3072)              0         \n",
      "_________________________________________________________________\n",
      "batch_normalization (BatchNo (None, 3072)              12288     \n",
      "_________________________________________________________________\n",
      "dense (Dense)                (None, 100)               307300    \n",
      "_________________________________________________________________\n",
      "batch_normalization_1 (Batch (None, 100)               400       \n",
      "_________________________________________________________________\n",
      "activation (Activation)      (None, 100)               0         \n",
      "_________________________________________________________________\n",
      "dense_1 (Dense)              (None, 100)               10100     \n",
      "_________________________________________________________________\n",
      "batch_normalization_2 (Batch (None, 100)               400       \n",
      "_________________________________________________________________\n",
      "activation_1 (Activation)    (None, 100)               0         \n",
      "_________________________________________________________________\n",
      "dense_2 (Dense)              (None, 100)               10100     \n",
      "_________________________________________________________________\n",
      "batch_normalization_3 (Batch (None, 100)               400       \n",
      "_________________________________________________________________\n",
      "activation_2 (Activation)    (None, 100)               0         \n",
      "_________________________________________________________________\n",
      "dense_3 (Dense)              (None, 100)               10100     \n",
      "_________________________________________________________________\n",
      "batch_normalization_4 (Batch (None, 100)               400       \n",
      "_________________________________________________________________\n",
      "activation_3 (Activation)    (None, 100)               0         \n",
      "_________________________________________________________________\n",
      "dense_4 (Dense)              (None, 100)               10100     \n",
      "_________________________________________________________________\n",
      "batch_normalization_5 (Batch (None, 100)               400       \n",
      "_________________________________________________________________\n",
      "activation_4 (Activation)    (None, 100)               0         \n",
      "_________________________________________________________________\n",
      "dense_5 (Dense)              (None, 100)               10100     \n",
      "_________________________________________________________________\n",
      "batch_normalization_6 (Batch (None, 100)               400       \n",
      "_________________________________________________________________\n",
      "activation_5 (Activation)    (None, 100)               0         \n",
      "_________________________________________________________________\n",
      "dense_6 (Dense)              (None, 100)               10100     \n",
      "_________________________________________________________________\n",
      "batch_normalization_7 (Batch (None, 100)               400       \n",
      "_________________________________________________________________\n",
      "activation_6 (Activation)    (None, 100)               0         \n",
      "_________________________________________________________________\n",
      "dense_7 (Dense)              (None, 100)               10100     \n",
      "_________________________________________________________________\n",
      "batch_normalization_8 (Batch (None, 100)               400       \n",
      "_________________________________________________________________\n",
      "activation_7 (Activation)    (None, 100)               0         \n",
      "_________________________________________________________________\n",
      "dense_8 (Dense)              (None, 100)               10100     \n",
      "_________________________________________________________________\n",
      "batch_normalization_9 (Batch (None, 100)               400       \n",
      "_________________________________________________________________\n",
      "activation_8 (Activation)    (None, 100)               0         \n",
      "_________________________________________________________________\n",
      "dense_9 (Dense)              (None, 100)               10100     \n",
      "_________________________________________________________________\n",
      "batch_normalization_10 (Batc (None, 100)               400       \n",
      "_________________________________________________________________\n",
      "activation_9 (Activation)    (None, 100)               0         \n",
      "_________________________________________________________________\n",
      "dense_10 (Dense)             (None, 100)               10100     \n",
      "_________________________________________________________________\n",
      "batch_normalization_11 (Batc (None, 100)               400       \n",
      "_________________________________________________________________\n",
      "activation_10 (Activation)   (None, 100)               0         \n",
      "_________________________________________________________________\n",
      "dense_11 (Dense)             (None, 100)               10100     \n",
      "_________________________________________________________________\n",
      "batch_normalization_12 (Batc (None, 100)               400       \n",
      "_________________________________________________________________\n",
      "activation_11 (Activation)   (None, 100)               0         \n",
      "_________________________________________________________________\n",
      "dense_12 (Dense)             (None, 100)               10100     \n",
      "_________________________________________________________________\n",
      "batch_normalization_13 (Batc (None, 100)               400       \n",
      "_________________________________________________________________\n",
      "activation_12 (Activation)   (None, 100)               0         \n",
      "_________________________________________________________________\n",
      "dense_13 (Dense)             (None, 100)               10100     \n",
      "_________________________________________________________________\n",
      "batch_normalization_14 (Batc (None, 100)               400       \n",
      "_________________________________________________________________\n",
      "activation_13 (Activation)   (None, 100)               0         \n",
      "_________________________________________________________________\n",
      "dense_14 (Dense)             (None, 100)               10100     \n",
      "_________________________________________________________________\n",
      "batch_normalization_15 (Batc (None, 100)               400       \n",
      "_________________________________________________________________\n",
      "activation_14 (Activation)   (None, 100)               0         \n",
      "_________________________________________________________________\n",
      "dense_15 (Dense)             (None, 100)               10100     \n",
      "_________________________________________________________________\n",
      "batch_normalization_16 (Batc (None, 100)               400       \n",
      "_________________________________________________________________\n",
      "activation_15 (Activation)   (None, 100)               0         \n",
      "_________________________________________________________________\n",
      "dense_16 (Dense)             (None, 100)               10100     \n",
      "_________________________________________________________________\n",
      "batch_normalization_17 (Batc (None, 100)               400       \n",
      "_________________________________________________________________\n",
      "activation_16 (Activation)   (None, 100)               0         \n",
      "_________________________________________________________________\n",
      "dense_17 (Dense)             (None, 100)               10100     \n",
      "_________________________________________________________________\n",
      "batch_normalization_18 (Batc (None, 100)               400       \n",
      "_________________________________________________________________\n",
      "activation_17 (Activation)   (None, 100)               0         \n",
      "_________________________________________________________________\n",
      "dense_18 (Dense)             (None, 100)               10100     \n",
      "_________________________________________________________________\n",
      "batch_normalization_19 (Batc (None, 100)               400       \n",
      "_________________________________________________________________\n",
      "activation_18 (Activation)   (None, 100)               0         \n",
      "_________________________________________________________________\n",
      "dense_19 (Dense)             (None, 100)               10100     \n",
      "_________________________________________________________________\n",
      "batch_normalization_20 (Batc (None, 100)               400       \n",
      "_________________________________________________________________\n",
      "activation_19 (Activation)   (None, 100)               0         \n",
      "_________________________________________________________________\n",
      "dense_20 (Dense)             (None, 10)                1010      \n",
      "=================================================================\n",
      "Total params: 520,498\n",
      "Trainable params: 510,354\n",
      "Non-trainable params: 10,144\n",
      "_________________________________________________________________\n"
     ]
    }
   ],
   "source": [
    "model.summary()"
   ]
  },
  {
   "cell_type": "code",
   "execution_count": 16,
   "metadata": {},
   "outputs": [],
   "source": [
    "optimizer = keras.optimizers.Nadam(lr=5e-4)\n",
    "model.compile(loss=\"sparse_categorical_crossentropy\",\n",
    "             optimizer=optimizer,\n",
    "             metrics=[\"accuracy\"])"
   ]
  },
  {
   "cell_type": "code",
   "execution_count": 17,
   "metadata": {},
   "outputs": [
    {
     "name": "stdout",
     "output_type": "stream",
     "text": [
      "Train on 45000 samples, validate on 5000 samples\n",
      "Epoch 1/100\n",
      "45000/45000 [==============================] - 43s 957us/sample - loss: 1.8364 - accuracy: 0.3414 - val_loss: 1.6465 - val_accuracy: 0.4138\n",
      "Epoch 2/100\n",
      "45000/45000 [==============================] - 34s 755us/sample - loss: 1.6652 - accuracy: 0.4062 - val_loss: 1.6149 - val_accuracy: 0.4180\n",
      "Epoch 3/100\n",
      "45000/45000 [==============================] - 33s 744us/sample - loss: 1.5981 - accuracy: 0.4303 - val_loss: 1.5207 - val_accuracy: 0.4578\n",
      "Epoch 4/100\n",
      "45000/45000 [==============================] - 34s 749us/sample - loss: 1.5432 - accuracy: 0.4525 - val_loss: 1.4723 - val_accuracy: 0.4674\n",
      "Epoch 5/100\n",
      "45000/45000 [==============================] - 33s 738us/sample - loss: 1.5009 - accuracy: 0.4660 - val_loss: 1.4800 - val_accuracy: 0.4732\n",
      "Epoch 6/100\n",
      "45000/45000 [==============================] - 33s 741us/sample - loss: 1.4629 - accuracy: 0.4787 - val_loss: 1.4371 - val_accuracy: 0.4932\n",
      "Epoch 7/100\n",
      "45000/45000 [==============================] - 34s 757us/sample - loss: 1.4332 - accuracy: 0.4945 - val_loss: 1.3867 - val_accuracy: 0.5032\n",
      "Epoch 8/100\n",
      "45000/45000 [==============================] - 34s 752us/sample - loss: 1.4055 - accuracy: 0.5020 - val_loss: 1.3844 - val_accuracy: 0.5056\n",
      "Epoch 9/100\n",
      "45000/45000 [==============================] - 33s 741us/sample - loss: 1.3774 - accuracy: 0.5113 - val_loss: 1.3681 - val_accuracy: 0.5190\n",
      "Epoch 10/100\n",
      "45000/45000 [==============================] - 33s 742us/sample - loss: 1.3531 - accuracy: 0.5202 - val_loss: 1.3486 - val_accuracy: 0.5190\n",
      "Epoch 11/100\n",
      "45000/45000 [==============================] - 33s 743us/sample - loss: 1.3325 - accuracy: 0.5285 - val_loss: 1.3653 - val_accuracy: 0.5230\n",
      "Epoch 12/100\n",
      "45000/45000 [==============================] - 34s 747us/sample - loss: 1.3116 - accuracy: 0.5381 - val_loss: 1.3823 - val_accuracy: 0.5138\n",
      "Epoch 13/100\n",
      "45000/45000 [==============================] - 33s 743us/sample - loss: 1.2987 - accuracy: 0.5404 - val_loss: 1.3514 - val_accuracy: 0.5302\n",
      "Epoch 14/100\n",
      "45000/45000 [==============================] - 34s 744us/sample - loss: 1.2747 - accuracy: 0.5502 - val_loss: 1.3521 - val_accuracy: 0.5236\n",
      "Epoch 15/100\n",
      "45000/45000 [==============================] - 33s 739us/sample - loss: 1.2623 - accuracy: 0.5545 - val_loss: 1.3649 - val_accuracy: 0.5098\n",
      "Epoch 16/100\n",
      "45000/45000 [==============================] - 34s 746us/sample - loss: 1.2460 - accuracy: 0.5582 - val_loss: 1.3522 - val_accuracy: 0.5318\n",
      "Epoch 17/100\n",
      "45000/45000 [==============================] - 34s 746us/sample - loss: 1.2321 - accuracy: 0.5656 - val_loss: 1.3297 - val_accuracy: 0.5334- l\n",
      "Epoch 18/100\n",
      "45000/45000 [==============================] - 33s 740us/sample - loss: 1.2172 - accuracy: 0.5703 - val_loss: 1.3361 - val_accuracy: 0.5390\n",
      "Epoch 19/100\n",
      "45000/45000 [==============================] - 34s 747us/sample - loss: 1.1968 - accuracy: 0.5785 - val_loss: 1.3217 - val_accuracy: 0.5398\n",
      "Epoch 20/100\n",
      "45000/45000 [==============================] - 34s 748us/sample - loss: 1.1873 - accuracy: 0.5811 - val_loss: 1.3399 - val_accuracy: 0.5320\n",
      "Epoch 21/100\n",
      "45000/45000 [==============================] - 33s 741us/sample - loss: 1.1778 - accuracy: 0.5835 - val_loss: 1.3383 - val_accuracy: 0.5374\n",
      "Epoch 22/100\n",
      "45000/45000 [==============================] - 34s 746us/sample - loss: 1.1670 - accuracy: 0.5902 - val_loss: 1.3409 - val_accuracy: 0.5318\n",
      "Epoch 23/100\n",
      "45000/45000 [==============================] - 35s 768us/sample - loss: 1.1511 - accuracy: 0.5939 - val_loss: 1.3126 - val_accuracy: 0.5414\n",
      "Epoch 24/100\n",
      "45000/45000 [==============================] - 33s 725us/sample - loss: 1.1348 - accuracy: 0.6002 - val_loss: 1.3480 - val_accuracy: 0.5330\n",
      "Epoch 25/100\n",
      "45000/45000 [==============================] - 33s 736us/sample - loss: 1.1231 - accuracy: 0.6023 - val_loss: 1.3384 - val_accuracy: 0.5450\n",
      "Epoch 26/100\n",
      "45000/45000 [==============================] - 33s 732us/sample - loss: 1.1128 - accuracy: 0.6075 - val_loss: 1.3366 - val_accuracy: 0.5384\n",
      "Epoch 27/100\n",
      "45000/45000 [==============================] - 34s 752us/sample - loss: 1.1006 - accuracy: 0.6102 - val_loss: 1.3657 - val_accuracy: 0.5416\n",
      "Epoch 28/100\n",
      "45000/45000 [==============================] - 33s 741us/sample - loss: 1.0875 - accuracy: 0.6161 - val_loss: 1.3630 - val_accuracy: 0.5374\n",
      "Epoch 29/100\n",
      "45000/45000 [==============================] - 33s 742us/sample - loss: 1.0789 - accuracy: 0.6207 - val_loss: 1.3265 - val_accuracy: 0.5476\n",
      "Epoch 30/100\n",
      "45000/45000 [==============================] - 33s 743us/sample - loss: 1.0724 - accuracy: 0.6236 - val_loss: 1.3422 - val_accuracy: 0.5366\n",
      "Epoch 31/100\n",
      "45000/45000 [==============================] - 34s 750us/sample - loss: 1.0583 - accuracy: 0.6270 - val_loss: 1.3694 - val_accuracy: 0.5296\n",
      "Epoch 32/100\n",
      "45000/45000 [==============================] - 33s 739us/sample - loss: 1.0493 - accuracy: 0.6289 - val_loss: 1.3464 - val_accuracy: 0.5424\n",
      "Epoch 33/100\n",
      "45000/45000 [==============================] - 33s 741us/sample - loss: 1.0391 - accuracy: 0.6329 - val_loss: 1.3395 - val_accuracy: 0.5460\n",
      "Epoch 34/100\n",
      "45000/45000 [==============================] - 33s 735us/sample - loss: 1.0269 - accuracy: 0.6388 - val_loss: 1.3600 - val_accuracy: 0.5402\n",
      "Epoch 35/100\n",
      "45000/45000 [==============================] - 33s 735us/sample - loss: 1.0217 - accuracy: 0.6371 - val_loss: 1.3907 - val_accuracy: 0.5360\n",
      "Epoch 36/100\n",
      "45000/45000 [==============================] - 33s 725us/sample - loss: 1.0085 - accuracy: 0.6428 - val_loss: 1.3366 - val_accuracy: 0.5450\n",
      "Epoch 37/100\n",
      "45000/45000 [==============================] - 34s 757us/sample - loss: 0.9983 - accuracy: 0.6467 - val_loss: 1.3341 - val_accuracy: 0.5494\n",
      "Epoch 38/100\n",
      "45000/45000 [==============================] - 35s 767us/sample - loss: 0.9893 - accuracy: 0.6497 - val_loss: 1.3789 - val_accuracy: 0.5474\n",
      "Epoch 39/100\n",
      "45000/45000 [==============================] - 33s 742us/sample - loss: 0.9873 - accuracy: 0.6495 - val_loss: 1.3617 - val_accuracy: 0.5458\n",
      "Epoch 40/100\n",
      "45000/45000 [==============================] - 33s 741us/sample - loss: 0.9725 - accuracy: 0.6572 - val_loss: 1.3934 - val_accuracy: 0.5356\n",
      "Epoch 41/100\n",
      "45000/45000 [==============================] - 34s 752us/sample - loss: 0.9636 - accuracy: 0.6579 - val_loss: 1.3866 - val_accuracy: 0.5306\n",
      "Epoch 42/100\n",
      "45000/45000 [==============================] - 34s 751us/sample - loss: 0.9585 - accuracy: 0.6609 - val_loss: 1.3830 - val_accuracy: 0.5448\n",
      "Epoch 43/100\n",
      "45000/45000 [==============================] - 36s 804us/sample - loss: 0.9447 - accuracy: 0.6658 - val_loss: 1.3751 - val_accuracy: 0.5426\n"
     ]
    }
   ],
   "source": [
    "early_stopping_cb = keras.callbacks.EarlyStopping(patience=20)\n",
    "model_checkpoint_cb = keras.callbacks.ModelCheckpoint(\"my_cifar10_bn_model.h5\",save_best_only=True)\n",
    "run_index = 1\n",
    "run_logdir = os.path.join(os.curdir, \"my_cifar10_log\", \"run_bn_{:03d}\".format(run_index))\n",
    "tensorboard_cb = keras.callbacks.TensorBoard(run_logdir)\n",
    "callbacks = [early_stopping_cb, model_checkpoint_cb, tensorboard_cb]\n",
    "\n",
    "with tf.device('/device:GPU:0'):\n",
    "    model.fit(X_train,y_train, epochs=100,\n",
    "             validation_data=(X_valid,y_valid),\n",
    "             callbacks=callbacks)"
   ]
  },
  {
   "cell_type": "code",
   "execution_count": 18,
   "metadata": {},
   "outputs": [
    {
     "name": "stdout",
     "output_type": "stream",
     "text": [
      "5000/5000 [==============================] - 1s 250us/sample - loss: 1.3126 - accuracy: 0.5414\n"
     ]
    },
    {
     "data": {
      "text/plain": [
       "[1.3125772806167602, 0.5414]"
      ]
     },
     "execution_count": 18,
     "metadata": {},
     "output_type": "execute_result"
    }
   ],
   "source": [
    "model = keras.models.load_model(\"my_cifar10_bn_model.h5\")\n",
    "model.evaluate(X_valid, y_valid)"
   ]
  },
  {
   "cell_type": "code",
   "execution_count": 19,
   "metadata": {},
   "outputs": [],
   "source": [
    "keras.backend.clear_session()\n",
    "tf.random.set_seed(42)\n",
    "np.random.seed(42)\n",
    "\n",
    "model = keras.models.Sequential()\n",
    "model.add(keras.layers.Flatten(input_shape=[32,32,3]))\n",
    "for _ in range(20):\n",
    "    model.add(keras.layers.Dense(100, kernel_initializer=\"lecun_normal\",\n",
    "                                activation=\"selu\"))\n",
    "model.add(keras.layers.Dense(10,activation=\"softmax\"))\n",
    "\n",
    "optimizer = keras.optimizers.Nadam(lr=7e-4)\n",
    "model.compile(loss=\"sparse_categorical_crossentropy\", optimizer=optimizer,\n",
    "             metrics=[\"accuracy\"])\n",
    "\n",
    "early_stopping_cb = keras.callbacks.EarlyStopping(patience=20)\n",
    "model_checkpoint_cb = keras.callbacks.ModelCheckpoint(\"my_cifar10_selu_model.h5\",save_best_only=True)\n",
    "run_index = 1\n",
    "run_logdir = os.path.join(os.curdir, \"my_cifar10_logs\",\"run_selu_{:03d}\".format(run_index))\n",
    "tensorboard_cb = keras.callbacks.TensorBoard(run_logdir)\n",
    "callbacks = [early_stopping_cb, model_checkpoint_cb, tensorboard_cb]\n",
    "\n",
    "X_means = X_train.mean(axis=0)\n",
    "X_stds = X_train.std(axis=0)\n",
    "X_train_scale = (X_train - X_means) / X_stds\n",
    "X_valid_scale = (X_valid - X_means) / X_stds\n",
    "X_test_scale = (X_test - X_means) / X_stds"
   ]
  },
  {
   "cell_type": "code",
   "execution_count": 20,
   "metadata": {},
   "outputs": [
    {
     "name": "stdout",
     "output_type": "stream",
     "text": [
      "Model: \"sequential\"\n",
      "_________________________________________________________________\n",
      "Layer (type)                 Output Shape              Param #   \n",
      "=================================================================\n",
      "flatten (Flatten)            (None, 3072)              0         \n",
      "_________________________________________________________________\n",
      "dense (Dense)                (None, 100)               307300    \n",
      "_________________________________________________________________\n",
      "dense_1 (Dense)              (None, 100)               10100     \n",
      "_________________________________________________________________\n",
      "dense_2 (Dense)              (None, 100)               10100     \n",
      "_________________________________________________________________\n",
      "dense_3 (Dense)              (None, 100)               10100     \n",
      "_________________________________________________________________\n",
      "dense_4 (Dense)              (None, 100)               10100     \n",
      "_________________________________________________________________\n",
      "dense_5 (Dense)              (None, 100)               10100     \n",
      "_________________________________________________________________\n",
      "dense_6 (Dense)              (None, 100)               10100     \n",
      "_________________________________________________________________\n",
      "dense_7 (Dense)              (None, 100)               10100     \n",
      "_________________________________________________________________\n",
      "dense_8 (Dense)              (None, 100)               10100     \n",
      "_________________________________________________________________\n",
      "dense_9 (Dense)              (None, 100)               10100     \n",
      "_________________________________________________________________\n",
      "dense_10 (Dense)             (None, 100)               10100     \n",
      "_________________________________________________________________\n",
      "dense_11 (Dense)             (None, 100)               10100     \n",
      "_________________________________________________________________\n",
      "dense_12 (Dense)             (None, 100)               10100     \n",
      "_________________________________________________________________\n",
      "dense_13 (Dense)             (None, 100)               10100     \n",
      "_________________________________________________________________\n",
      "dense_14 (Dense)             (None, 100)               10100     \n",
      "_________________________________________________________________\n",
      "dense_15 (Dense)             (None, 100)               10100     \n",
      "_________________________________________________________________\n",
      "dense_16 (Dense)             (None, 100)               10100     \n",
      "_________________________________________________________________\n",
      "dense_17 (Dense)             (None, 100)               10100     \n",
      "_________________________________________________________________\n",
      "dense_18 (Dense)             (None, 100)               10100     \n",
      "_________________________________________________________________\n",
      "dense_19 (Dense)             (None, 100)               10100     \n",
      "_________________________________________________________________\n",
      "dense_20 (Dense)             (None, 10)                1010      \n",
      "=================================================================\n",
      "Total params: 500,210\n",
      "Trainable params: 500,210\n",
      "Non-trainable params: 0\n",
      "_________________________________________________________________\n"
     ]
    }
   ],
   "source": [
    "model.summary()"
   ]
  },
  {
   "cell_type": "code",
   "execution_count": 21,
   "metadata": {},
   "outputs": [
    {
     "name": "stdout",
     "output_type": "stream",
     "text": [
      "Train on 45000 samples, validate on 5000 samples\n",
      "Epoch 1/100\n",
      "45000/45000 [==============================] - 17s 375us/sample - loss: 1.9134 - accuracy: 0.3092 - val_loss: 1.8427 - val_accuracy: 0.3426\n",
      "Epoch 2/100\n",
      "45000/45000 [==============================] - 14s 307us/sample - loss: 1.6943 - accuracy: 0.3994 - val_loss: 1.7828 - val_accuracy: 0.3838\n",
      "Epoch 3/100\n",
      "45000/45000 [==============================] - 14s 309us/sample - loss: 1.6050 - accuracy: 0.4354 - val_loss: 1.6301 - val_accuracy: 0.4270\n",
      "Epoch 4/100\n",
      "45000/45000 [==============================] - 14s 307us/sample - loss: 1.5352 - accuracy: 0.4638 - val_loss: 1.5933 - val_accuracy: 0.4572\n",
      "Epoch 5/100\n",
      "45000/45000 [==============================] - 14s 309us/sample - loss: 1.4781 - accuracy: 0.4819 - val_loss: 1.5639 - val_accuracy: 0.4440\n",
      "Epoch 6/100\n",
      "45000/45000 [==============================] - 14s 303us/sample - loss: 1.4337 - accuracy: 0.4986 - val_loss: 1.5439 - val_accuracy: 0.4680\n",
      "Epoch 7/100\n",
      "45000/45000 [==============================] - 14s 303us/sample - loss: 1.3945 - accuracy: 0.5134 - val_loss: 1.4955 - val_accuracy: 0.4772\n",
      "Epoch 8/100\n",
      "45000/45000 [==============================] - 14s 306us/sample - loss: 1.3532 - accuracy: 0.5276 - val_loss: 1.4946 - val_accuracy: 0.4920\n",
      "Epoch 9/100\n",
      "45000/45000 [==============================] - 14s 301us/sample - loss: 1.3213 - accuracy: 0.5401 - val_loss: 1.4993 - val_accuracy: 0.4912\n",
      "Epoch 10/100\n",
      "45000/45000 [==============================] - 14s 303us/sample - loss: 1.2957 - accuracy: 0.5507 - val_loss: 1.5118 - val_accuracy: 0.4928\n",
      "Epoch 11/100\n",
      "45000/45000 [==============================] - 14s 306us/sample - loss: 1.2669 - accuracy: 0.5607 - val_loss: 1.5134 - val_accuracy: 0.4902\n",
      "Epoch 12/100\n",
      "45000/45000 [==============================] - 14s 304us/sample - loss: 1.2381 - accuracy: 0.5693 - val_loss: 1.4930 - val_accuracy: 0.5038\n",
      "Epoch 13/100\n",
      "45000/45000 [==============================] - 14s 305us/sample - loss: 1.2188 - accuracy: 0.5795 - val_loss: 1.4847 - val_accuracy: 0.5036\n",
      "Epoch 14/100\n",
      "45000/45000 [==============================] - 14s 308us/sample - loss: 1.1938 - accuracy: 0.5891 - val_loss: 1.4565 - val_accuracy: 0.5020\n",
      "Epoch 15/100\n",
      "45000/45000 [==============================] - 14s 303us/sample - loss: 1.1652 - accuracy: 0.5993 - val_loss: 1.5622 - val_accuracy: 0.4810\n",
      "Epoch 16/100\n",
      "45000/45000 [==============================] - 14s 305us/sample - loss: 1.1524 - accuracy: 0.6040 - val_loss: 1.4565 - val_accuracy: 0.5048\n",
      "Epoch 17/100\n",
      "45000/45000 [==============================] - 14s 302us/sample - loss: 1.1237 - accuracy: 0.6145 - val_loss: 1.5042 - val_accuracy: 0.5040\n",
      "Epoch 18/100\n",
      "45000/45000 [==============================] - 14s 306us/sample - loss: 1.0969 - accuracy: 0.6223 - val_loss: 1.4785 - val_accuracy: 0.5136\n",
      "Epoch 19/100\n",
      "45000/45000 [==============================] - 14s 306us/sample - loss: 1.0806 - accuracy: 0.6300 - val_loss: 1.4841 - val_accuracy: 0.5184\n",
      "Epoch 20/100\n",
      "45000/45000 [==============================] - 14s 302us/sample - loss: 1.0551 - accuracy: 0.6397 - val_loss: 1.4814 - val_accuracy: 0.4974\n",
      "Epoch 21/100\n",
      "45000/45000 [==============================] - 14s 302us/sample - loss: 1.0438 - accuracy: 0.6435 - val_loss: 1.5515 - val_accuracy: 0.5100\n",
      "Epoch 22/100\n",
      "45000/45000 [==============================] - 14s 300us/sample - loss: 1.0261 - accuracy: 0.6502 - val_loss: 1.5417 - val_accuracy: 0.5074\n",
      "Epoch 23/100\n",
      "45000/45000 [==============================] - 14s 305us/sample - loss: 1.0121 - accuracy: 0.6560 - val_loss: 1.5364 - val_accuracy: 0.4994\n",
      "Epoch 24/100\n",
      "45000/45000 [==============================] - 14s 302us/sample - loss: 0.9959 - accuracy: 0.6630 - val_loss: 1.5747 - val_accuracy: 0.5124\n",
      "Epoch 25/100\n",
      "45000/45000 [==============================] - 14s 301us/sample - loss: 0.9800 - accuracy: 0.6651 - val_loss: 1.5762 - val_accuracy: 0.5020\n",
      "Epoch 26/100\n",
      "45000/45000 [==============================] - 13s 299us/sample - loss: 1.0075 - accuracy: 0.6624 - val_loss: 1.5985 - val_accuracy: 0.5022\n",
      "Epoch 27/100\n",
      "45000/45000 [==============================] - 14s 303us/sample - loss: 0.9470 - accuracy: 0.6791 - val_loss: 1.6120 - val_accuracy: 0.4988\n",
      "Epoch 28/100\n",
      "45000/45000 [==============================] - 14s 301us/sample - loss: 0.9181 - accuracy: 0.6904 - val_loss: 1.5714 - val_accuracy: 0.5026\n",
      "Epoch 29/100\n",
      "45000/45000 [==============================] - 14s 307us/sample - loss: 0.9154 - accuracy: 0.6922 - val_loss: 1.6532 - val_accuracy: 0.5056\n",
      "Epoch 30/100\n",
      "45000/45000 [==============================] - 14s 309us/sample - loss: 0.8979 - accuracy: 0.6979 - val_loss: 1.5731 - val_accuracy: 0.5136\n",
      "Epoch 31/100\n",
      "45000/45000 [==============================] - 14s 301us/sample - loss: 0.8843 - accuracy: 0.7012 - val_loss: 1.7117 - val_accuracy: 0.5018\n",
      "Epoch 32/100\n",
      "45000/45000 [==============================] - 14s 305us/sample - loss: 0.8865 - accuracy: 0.7038 - val_loss: 1.6740 - val_accuracy: 0.5100\n",
      "Epoch 33/100\n",
      "45000/45000 [==============================] - 14s 309us/sample - loss: 0.8694 - accuracy: 0.7087 - val_loss: 1.7176 - val_accuracy: 0.5006\n",
      "Epoch 34/100\n",
      "45000/45000 [==============================] - 13s 298us/sample - loss: 0.8679 - accuracy: 0.7086 - val_loss: 1.6470 - val_accuracy: 0.5150\n",
      "Epoch 35/100\n",
      "45000/45000 [==============================] - 13s 298us/sample - loss: 0.8482 - accuracy: 0.7186 - val_loss: 1.6689 - val_accuracy: 0.5060\n",
      "Epoch 36/100\n",
      "45000/45000 [==============================] - 13s 297us/sample - loss: 0.8473 - accuracy: 0.7173 - val_loss: 1.7253 - val_accuracy: 0.4964\n"
     ]
    }
   ],
   "source": [
    "with tf.device('/device:GPU:0'):\n",
    "    model.fit(X_train_scale,y_train, epochs=100,\n",
    "             validation_data=(X_valid_scale,y_valid),\n",
    "             callbacks=callbacks)"
   ]
  },
  {
   "cell_type": "code",
   "execution_count": 22,
   "metadata": {},
   "outputs": [
    {
     "name": "stdout",
     "output_type": "stream",
     "text": [
      "5000/5000 [==============================] - 1s 130us/sample - loss: 1.4565 - accuracy: 0.5048\n"
     ]
    },
    {
     "data": {
      "text/plain": [
       "[1.456472645187378, 0.5048]"
      ]
     },
     "execution_count": 22,
     "metadata": {},
     "output_type": "execute_result"
    }
   ],
   "source": [
    "model = keras.models.load_model(\"my_cifar10_selu_model.h5\")\n",
    "model.evaluate(X_valid_scale,y_valid)"
   ]
  },
  {
   "cell_type": "code",
   "execution_count": 23,
   "metadata": {},
   "outputs": [],
   "source": [
    "keras.backend.clear_session()\n",
    "tf.random.set_seed(42)\n",
    "np.random.seed(42)\n",
    "\n",
    "model = keras.models.Sequential()\n",
    "model.add(keras.layers.Flatten(input_shape=[32, 32, 3]))\n",
    "for _ in range(20):\n",
    "    model.add(keras.layers.Dense(100,\n",
    "                                 kernel_initializer=\"lecun_normal\",\n",
    "                                 activation=\"selu\"))\n",
    "\n",
    "model.add(keras.layers.AlphaDropout(rate=0.1))\n",
    "model.add(keras.layers.Dense(10, activation=\"softmax\"))\n",
    "\n",
    "optimizer = keras.optimizers.Nadam(lr=5e-4)\n",
    "model.compile(loss=\"sparse_categorical_crossentropy\",\n",
    "              optimizer=optimizer,\n",
    "              metrics=[\"accuracy\"])\n",
    "\n",
    "early_stopping_cb = keras.callbacks.EarlyStopping(patience=20)\n",
    "model_checkpoint_cb = keras.callbacks.ModelCheckpoint(\"my_cifar10_alpha_dropout_model.h5\", save_best_only=True)\n",
    "run_index = 1 # increment every time you train the model\n",
    "run_logdir = os.path.join(os.curdir, \"my_cifar10_logs\", \"run_alpha_dropout_{:03d}\".format(run_index))\n",
    "tensorboard_cb = keras.callbacks.TensorBoard(run_logdir)\n",
    "callbacks = [early_stopping_cb, model_checkpoint_cb, tensorboard_cb]\n",
    "\n",
    "X_means = X_train.mean(axis=0)\n",
    "X_stds = X_train.std(axis=0)\n",
    "X_train_scaled = (X_train - X_means) / X_stds\n",
    "X_valid_scaled = (X_valid - X_means) / X_stds\n",
    "X_test_scaled = (X_test - X_means) / X_stds\n"
   ]
  },
  {
   "cell_type": "code",
   "execution_count": 24,
   "metadata": {},
   "outputs": [
    {
     "name": "stdout",
     "output_type": "stream",
     "text": [
      "Model: \"sequential\"\n",
      "_________________________________________________________________\n",
      "Layer (type)                 Output Shape              Param #   \n",
      "=================================================================\n",
      "flatten (Flatten)            (None, 3072)              0         \n",
      "_________________________________________________________________\n",
      "dense (Dense)                (None, 100)               307300    \n",
      "_________________________________________________________________\n",
      "dense_1 (Dense)              (None, 100)               10100     \n",
      "_________________________________________________________________\n",
      "dense_2 (Dense)              (None, 100)               10100     \n",
      "_________________________________________________________________\n",
      "dense_3 (Dense)              (None, 100)               10100     \n",
      "_________________________________________________________________\n",
      "dense_4 (Dense)              (None, 100)               10100     \n",
      "_________________________________________________________________\n",
      "dense_5 (Dense)              (None, 100)               10100     \n",
      "_________________________________________________________________\n",
      "dense_6 (Dense)              (None, 100)               10100     \n",
      "_________________________________________________________________\n",
      "dense_7 (Dense)              (None, 100)               10100     \n",
      "_________________________________________________________________\n",
      "dense_8 (Dense)              (None, 100)               10100     \n",
      "_________________________________________________________________\n",
      "dense_9 (Dense)              (None, 100)               10100     \n",
      "_________________________________________________________________\n",
      "dense_10 (Dense)             (None, 100)               10100     \n",
      "_________________________________________________________________\n",
      "dense_11 (Dense)             (None, 100)               10100     \n",
      "_________________________________________________________________\n",
      "dense_12 (Dense)             (None, 100)               10100     \n",
      "_________________________________________________________________\n",
      "dense_13 (Dense)             (None, 100)               10100     \n",
      "_________________________________________________________________\n",
      "dense_14 (Dense)             (None, 100)               10100     \n",
      "_________________________________________________________________\n",
      "dense_15 (Dense)             (None, 100)               10100     \n",
      "_________________________________________________________________\n",
      "dense_16 (Dense)             (None, 100)               10100     \n",
      "_________________________________________________________________\n",
      "dense_17 (Dense)             (None, 100)               10100     \n",
      "_________________________________________________________________\n",
      "dense_18 (Dense)             (None, 100)               10100     \n",
      "_________________________________________________________________\n",
      "dense_19 (Dense)             (None, 100)               10100     \n",
      "_________________________________________________________________\n",
      "alpha_dropout (AlphaDropout) (None, 100)               0         \n",
      "_________________________________________________________________\n",
      "dense_20 (Dense)             (None, 10)                1010      \n",
      "=================================================================\n",
      "Total params: 500,210\n",
      "Trainable params: 500,210\n",
      "Non-trainable params: 0\n",
      "_________________________________________________________________\n"
     ]
    }
   ],
   "source": [
    "model.summary()"
   ]
  },
  {
   "cell_type": "code",
   "execution_count": 25,
   "metadata": {},
   "outputs": [
    {
     "name": "stdout",
     "output_type": "stream",
     "text": [
      "Train on 45000 samples, validate on 5000 samples\n",
      "Epoch 1/100\n",
      "45000/45000 [==============================] - 19s 415us/sample - loss: 1.8772 - accuracy: 0.3334 - val_loss: 1.7490 - val_accuracy: 0.3884\n",
      "Epoch 2/100\n",
      "45000/45000 [==============================] - 15s 331us/sample - loss: 1.6488 - accuracy: 0.4151 - val_loss: 1.8019 - val_accuracy: 0.4086\n",
      "Epoch 3/100\n",
      "45000/45000 [==============================] - 15s 335us/sample - loss: 1.5614 - accuracy: 0.4495 - val_loss: 1.7122 - val_accuracy: 0.4436\n",
      "Epoch 4/100\n",
      "45000/45000 [==============================] - 15s 335us/sample - loss: 1.4949 - accuracy: 0.4736 - val_loss: 1.6085 - val_accuracy: 0.4380\n",
      "Epoch 5/100\n",
      "45000/45000 [==============================] - 15s 337us/sample - loss: 1.4384 - accuracy: 0.4962 - val_loss: 1.5393 - val_accuracy: 0.4776\n",
      "Epoch 6/100\n",
      "45000/45000 [==============================] - 15s 335us/sample - loss: 1.3956 - accuracy: 0.5133 - val_loss: 1.5038 - val_accuracy: 0.4980\n",
      "Epoch 7/100\n",
      "45000/45000 [==============================] - 15s 335us/sample - loss: 1.3521 - accuracy: 0.5277 - val_loss: 1.5419 - val_accuracy: 0.4826\n",
      "Epoch 8/100\n",
      "45000/45000 [==============================] - 15s 339us/sample - loss: 1.3153 - accuracy: 0.5431 - val_loss: 1.5373 - val_accuracy: 0.4892\n",
      "Epoch 9/100\n",
      "45000/45000 [==============================] - 15s 334us/sample - loss: 1.2763 - accuracy: 0.5551 - val_loss: 1.5651 - val_accuracy: 0.4906\n",
      "Epoch 10/100\n",
      "45000/45000 [==============================] - 15s 331us/sample - loss: 1.2410 - accuracy: 0.5698 - val_loss: 1.5646 - val_accuracy: 0.4938\n",
      "Epoch 11/100\n",
      "45000/45000 [==============================] - 15s 331us/sample - loss: 1.2151 - accuracy: 0.5822 - val_loss: 1.5815 - val_accuracy: 0.5008\n",
      "Epoch 12/100\n",
      "45000/45000 [==============================] - 15s 333us/sample - loss: 1.1848 - accuracy: 0.5909 - val_loss: 1.5978 - val_accuracy: 0.4858\n",
      "Epoch 13/100\n",
      "45000/45000 [==============================] - 15s 334us/sample - loss: 1.1560 - accuracy: 0.6001 - val_loss: 1.5667 - val_accuracy: 0.5034\n",
      "Epoch 14/100\n",
      "45000/45000 [==============================] - 15s 331us/sample - loss: 1.1260 - accuracy: 0.6169 - val_loss: 1.5771 - val_accuracy: 0.5022\n",
      "Epoch 15/100\n",
      "45000/45000 [==============================] - 15s 325us/sample - loss: 1.1021 - accuracy: 0.6239 - val_loss: 1.6292 - val_accuracy: 0.4930\n",
      "Epoch 16/100\n",
      "45000/45000 [==============================] - 15s 329us/sample - loss: 1.0794 - accuracy: 0.6301 - val_loss: 1.5735 - val_accuracy: 0.5098\n",
      "Epoch 17/100\n",
      "45000/45000 [==============================] - 15s 332us/sample - loss: 1.0539 - accuracy: 0.6372 - val_loss: 1.6408 - val_accuracy: 0.5018\n",
      "Epoch 18/100\n",
      "45000/45000 [==============================] - 15s 327us/sample - loss: 1.0269 - accuracy: 0.6472 - val_loss: 1.5883 - val_accuracy: 0.5114\n",
      "Epoch 19/100\n",
      "45000/45000 [==============================] - 15s 335us/sample - loss: 1.0128 - accuracy: 0.6555 - val_loss: 1.6602 - val_accuracy: 0.5096\n",
      "Epoch 20/100\n",
      "45000/45000 [==============================] - 15s 330us/sample - loss: 0.9858 - accuracy: 0.6666 - val_loss: 1.6100 - val_accuracy: 0.5142\n",
      "Epoch 21/100\n",
      "45000/45000 [==============================] - 15s 329us/sample - loss: 0.9661 - accuracy: 0.6693 - val_loss: 1.7674 - val_accuracy: 0.5012\n",
      "Epoch 22/100\n",
      "45000/45000 [==============================] - 15s 329us/sample - loss: 0.9482 - accuracy: 0.6795 - val_loss: 1.8125 - val_accuracy: 0.5052\n",
      "Epoch 23/100\n",
      "45000/45000 [==============================] - 15s 330us/sample - loss: 0.9268 - accuracy: 0.6867 - val_loss: 1.8521 - val_accuracy: 0.5010\n",
      "Epoch 24/100\n",
      "45000/45000 [==============================] - 15s 327us/sample - loss: 0.9131 - accuracy: 0.6903 - val_loss: 1.7368 - val_accuracy: 0.5154\n",
      "Epoch 25/100\n",
      "45000/45000 [==============================] - 15s 337us/sample - loss: 0.8884 - accuracy: 0.7009 - val_loss: 1.8334 - val_accuracy: 0.5104\n",
      "Epoch 26/100\n",
      "45000/45000 [==============================] - 15s 336us/sample - loss: 0.8801 - accuracy: 0.7020 - val_loss: 1.8198 - val_accuracy: 0.5064\n"
     ]
    },
    {
     "data": {
      "text/plain": [
       "<tensorflow.python.keras.callbacks.History at 0x1ea04ecdc08>"
      ]
     },
     "execution_count": 25,
     "metadata": {},
     "output_type": "execute_result"
    }
   ],
   "source": [
    "model.fit(X_train_scaled, y_train, epochs=100,\n",
    "          validation_data=(X_valid_scaled, y_valid),\n",
    "          callbacks=callbacks)"
   ]
  },
  {
   "cell_type": "code",
   "execution_count": 26,
   "metadata": {},
   "outputs": [
    {
     "name": "stdout",
     "output_type": "stream",
     "text": [
      "5000/5000 [==============================] - 1s 132us/sample - loss: 1.5038 - accuracy: 0.4980\n"
     ]
    },
    {
     "data": {
      "text/plain": [
       "[1.5037678070068359, 0.498]"
      ]
     },
     "execution_count": 26,
     "metadata": {},
     "output_type": "execute_result"
    }
   ],
   "source": [
    "model = keras.models.load_model(\"my_cifar10_alpha_dropout_model.h5\")\n",
    "model.evaluate(X_valid_scaled, y_valid)"
   ]
  },
  {
   "cell_type": "code",
   "execution_count": 28,
   "metadata": {},
   "outputs": [],
   "source": [
    "class MCAlphaDropout(keras.layers.AlphaDropout):\n",
    "    def call(self,inputs):\n",
    "        return super().call(inputs,training=True)"
   ]
  },
  {
   "cell_type": "code",
   "execution_count": 29,
   "metadata": {},
   "outputs": [],
   "source": [
    "mc_model = keras.models.Sequential([\n",
    "    MCAlphaDropout(layer.rate) if isinstance(layer, keras.layers.AlphaDropout) else layer for layer in model.layers\n",
    "])"
   ]
  },
  {
   "cell_type": "code",
   "execution_count": 30,
   "metadata": {},
   "outputs": [
    {
     "name": "stdout",
     "output_type": "stream",
     "text": [
      "Model: \"sequential_1\"\n",
      "_________________________________________________________________\n",
      "Layer (type)                 Output Shape              Param #   \n",
      "=================================================================\n",
      "flatten (Flatten)            (None, 3072)              0         \n",
      "_________________________________________________________________\n",
      "dense (Dense)                (None, 100)               307300    \n",
      "_________________________________________________________________\n",
      "dense_1 (Dense)              (None, 100)               10100     \n",
      "_________________________________________________________________\n",
      "dense_2 (Dense)              (None, 100)               10100     \n",
      "_________________________________________________________________\n",
      "dense_3 (Dense)              (None, 100)               10100     \n",
      "_________________________________________________________________\n",
      "dense_4 (Dense)              (None, 100)               10100     \n",
      "_________________________________________________________________\n",
      "dense_5 (Dense)              (None, 100)               10100     \n",
      "_________________________________________________________________\n",
      "dense_6 (Dense)              (None, 100)               10100     \n",
      "_________________________________________________________________\n",
      "dense_7 (Dense)              (None, 100)               10100     \n",
      "_________________________________________________________________\n",
      "dense_8 (Dense)              (None, 100)               10100     \n",
      "_________________________________________________________________\n",
      "dense_9 (Dense)              (None, 100)               10100     \n",
      "_________________________________________________________________\n",
      "dense_10 (Dense)             (None, 100)               10100     \n",
      "_________________________________________________________________\n",
      "dense_11 (Dense)             (None, 100)               10100     \n",
      "_________________________________________________________________\n",
      "dense_12 (Dense)             (None, 100)               10100     \n",
      "_________________________________________________________________\n",
      "dense_13 (Dense)             (None, 100)               10100     \n",
      "_________________________________________________________________\n",
      "dense_14 (Dense)             (None, 100)               10100     \n",
      "_________________________________________________________________\n",
      "dense_15 (Dense)             (None, 100)               10100     \n",
      "_________________________________________________________________\n",
      "dense_16 (Dense)             (None, 100)               10100     \n",
      "_________________________________________________________________\n",
      "dense_17 (Dense)             (None, 100)               10100     \n",
      "_________________________________________________________________\n",
      "dense_18 (Dense)             (None, 100)               10100     \n",
      "_________________________________________________________________\n",
      "dense_19 (Dense)             (None, 100)               10100     \n",
      "_________________________________________________________________\n",
      "mc_alpha_dropout (MCAlphaDro (None, 100)               0         \n",
      "_________________________________________________________________\n",
      "dense_20 (Dense)             (None, 10)                1010      \n",
      "=================================================================\n",
      "Total params: 500,210\n",
      "Trainable params: 500,210\n",
      "Non-trainable params: 0\n",
      "_________________________________________________________________\n"
     ]
    }
   ],
   "source": [
    "mc_model.summary()"
   ]
  },
  {
   "cell_type": "code",
   "execution_count": 31,
   "metadata": {},
   "outputs": [],
   "source": [
    "def mc_dropout_predict_probas(mc_model, X, n_sample=10):\n",
    "    Y_probas = [mc_model.predict(X) for sample in range(n_sample)]\n",
    "    return np.mean(Y_probas, axis=0)\n",
    "def mc_dropout_predict_classes(mc_model, X, n_sample=10):\n",
    "    Y_probas = mc_dropout_predict_probas(mc_model, X, n_sample)\n",
    "    return np.argmax(Y_probas, axis=1)"
   ]
  },
  {
   "cell_type": "code",
   "execution_count": 32,
   "metadata": {},
   "outputs": [
    {
     "data": {
      "text/plain": [
       "0.4984"
      ]
     },
     "execution_count": 32,
     "metadata": {},
     "output_type": "execute_result"
    }
   ],
   "source": [
    "keras.backend.clear_session()\n",
    "tf.random.set_seed(42)\n",
    "np.random.seed(42)\n",
    "\n",
    "y_pred = mc_dropout_predict_classes(mc_model, X_valid_scaled)\n",
    "accuracy = np.mean(y_pred == y_valid[:,0])\n",
    "accuracy"
   ]
  },
  {
   "cell_type": "code",
   "execution_count": 40,
   "metadata": {},
   "outputs": [
    {
     "data": {
      "text/plain": [
       "array([6, 9, 9, ..., 5, 4, 6], dtype=uint8)"
      ]
     },
     "execution_count": 40,
     "metadata": {},
     "output_type": "execute_result"
    }
   ],
   "source": [
    "y_valid[:,0]"
   ]
  },
  {
   "cell_type": "code",
   "execution_count": 43,
   "metadata": {},
   "outputs": [],
   "source": [
    "K = keras.backend\n",
    "\n",
    "class ExponentialLearningRate(keras.callbacks.Callback):\n",
    "    def __init__(self, factor):\n",
    "        self.factor = factor\n",
    "        self.rates = []\n",
    "        self.losses = []\n",
    "    def on_batch_end(self, batch, logs):\n",
    "        self.rates.append(K.get_value(self.model.optimizer.lr))\n",
    "        self.losses.append(logs[\"loss\"])\n",
    "        K.set_value(self.model.optimizer.lr, self.model.optimizer.lr * self.factor)\n",
    "\n",
    "def find_learning_rate(model, X, y, epochs=1, batch_size=32, min_rate=10**-5, max_rate=10):\n",
    "    init_weights = model.get_weights()\n",
    "    iterations = len(X) // batch_size * epochs\n",
    "    factor = np.exp(np.log(max_rate / min_rate) / iterations)\n",
    "    init_lr = K.get_value(model.optimizer.lr)\n",
    "    K.set_value(model.optimizer.lr, min_rate)\n",
    "    exp_lr = ExponentialLearningRate(factor)\n",
    "    history = model.fit(X, y, epochs=epochs, batch_size=batch_size,\n",
    "                        callbacks=[exp_lr])\n",
    "    K.set_value(model.optimizer.lr, init_lr)\n",
    "    model.set_weights(init_weights)\n",
    "    return exp_lr.rates, exp_lr.losses\n",
    "\n",
    "def plot_lr_vs_loss(rates, losses):\n",
    "    plt.plot(rates, losses)\n",
    "    plt.gca().set_xscale('log')\n",
    "    plt.hlines(min(losses), min(rates), max(rates))\n",
    "    plt.axis([min(rates), max(rates), min(losses), (losses[0] + min(losses)) / 2])\n",
    "    plt.xlabel(\"Learning rate\")\n",
    "    plt.ylabel(\"Loss\")"
   ]
  },
  {
   "cell_type": "code",
   "execution_count": 44,
   "metadata": {},
   "outputs": [
    {
     "name": "stdout",
     "output_type": "stream",
     "text": [
      "Train on 45000 samples\n",
      "45000/45000 [==============================] - 3s 71us/sample - loss: nan - accuracy: 0.1388\n"
     ]
    },
    {
     "data": {
      "text/plain": [
       "(9.999999747378752e-06,\n",
       " 9.999868392944336,\n",
       " 2.0554909706115723,\n",
       " 3.4577737535749167)"
      ]
     },
     "execution_count": 44,
     "metadata": {},
     "output_type": "execute_result"
    },
    {
     "data": {
      "image/png": "[encoded data removed]",
      "text/plain": [
       "<Figure size 432x288 with 1 Axes>"
      ]
     },
     "metadata": {
      "needs_background": "light"
     },
     "output_type": "display_data"
    }
   ],
   "source": [
    "batch_size = 128\n",
    "rates, losses = find_learning_rate(model, X_train_scaled, y_train, epochs=1, batch_size=batch_size)\n",
    "plot_lr_vs_loss(rates, losses)\n",
    "plt.axis([min(rates), max(rates), min(losses), (losses[0] + min(losses)) / 1.4])"
   ]
  },
  {
   "cell_type": "code",
   "execution_count": 45,
   "metadata": {},
   "outputs": [],
   "source": [
    "keras.backend.clear_session()\n",
    "tf.random.set_seed(42)\n",
    "np.random.seed(42)\n",
    "\n",
    "model = keras.models.Sequential()\n",
    "model.add(keras.layers.Flatten(input_shape=[32, 32, 3]))\n",
    "for _ in range(20):\n",
    "    model.add(keras.layers.Dense(100,\n",
    "                                 kernel_initializer=\"lecun_normal\",\n",
    "                                 activation=\"selu\"))\n",
    "\n",
    "model.add(keras.layers.AlphaDropout(rate=0.1))\n",
    "model.add(keras.layers.Dense(10, activation=\"softmax\"))\n",
    "\n",
    "optimizer = keras.optimizers.SGD(lr=1e-2)\n",
    "model.compile(loss=\"sparse_categorical_crossentropy\",\n",
    "              optimizer=optimizer,\n",
    "              metrics=[\"accuracy\"])"
   ]
  },
  {
   "cell_type": "code",
   "execution_count": 64,
   "metadata": {},
   "outputs": [],
   "source": [
    "class OneCycleScheduler(keras.callbacks.Callback):\n",
    "    def __init__(self, iterations, max_rate, start_rate=None,\n",
    "                 last_iterations=None, last_rate=None):\n",
    "        self.iterations = iterations\n",
    "        self.max_rate = max_rate\n",
    "        self.start_rate = start_rate or max_rate / 10\n",
    "        self.last_iterations = last_iterations or iterations // 10 + 1\n",
    "        self.half_iteration = (iterations - self.last_iterations) // 2\n",
    "        self.last_rate = last_rate or self.start_rate / 1000\n",
    "        self.iteration = 0\n",
    "    def _interpolate(self, iter1, iter2, rate1, rate2):\n",
    "        return ((rate2 - rate1) * (self.iteration - iter1)\n",
    "                / (iter2 - iter1) + rate1)\n",
    "    def on_batch_begin(self, batch, logs):\n",
    "        if self.iteration < self.half_iteration:\n",
    "            rate = self._interpolate(0, self.half_iteration, self.start_rate, self.max_rate)\n",
    "        elif self.iteration < 2 * self.half_iteration:\n",
    "            rate = self._interpolate(self.half_iteration, 2 * self.half_iteration,\n",
    "                                     self.max_rate, self.start_rate)\n",
    "        else:\n",
    "            rate = self._interpolate(2 * self.half_iteration, self.iterations,\n",
    "                                     self.start_rate, self.last_rate)\n",
    "            rate = max(rate, self.last_rate)\n",
    "        self.iteration += 1\n",
    "        K.set_value(self.model.optimizer.lr, rate)"
   ]
  },
  {
   "cell_type": "code",
   "execution_count": 65,
   "metadata": {},
   "outputs": [],
   "source": [
    "keras.backend.clear_session()\n",
    "tf.random.set_seed(42)\n",
    "np.random.seed(42)\n",
    "\n",
    "model = keras.models.Sequential()\n",
    "model.add(keras.layers.Flatten(input_shape=[32, 32, 3]))\n",
    "for _ in range(20):\n",
    "    model.add(keras.layers.Dense(100,\n",
    "                                 kernel_initializer=\"lecun_normal\",\n",
    "                                 activation=\"selu\"))\n",
    "\n",
    "model.add(keras.layers.AlphaDropout(rate=0.1))\n",
    "model.add(keras.layers.Dense(10, activation=\"softmax\"))\n",
    "\n",
    "optimizer = keras.optimizers.SGD(lr=1e-2)\n",
    "model.compile(loss=\"sparse_categorical_crossentropy\",\n",
    "              optimizer=optimizer,\n",
    "              metrics=[\"accuracy\"])"
   ]
  },
  {
   "cell_type": "code",
   "execution_count": 66,
   "metadata": {},
   "outputs": [
    {
     "name": "stdout",
     "output_type": "stream",
     "text": [
      "Train on 45000 samples, validate on 5000 samples\n",
      "Epoch 1/30\n",
      "45000/45000 [==============================] - 4s 89us/sample - loss: 2.0599 - accuracy: 0.2796 - val_loss: 1.7734 - val_accuracy: 0.3662\n",
      "Epoch 2/30\n",
      "45000/45000 [==============================] - 3s 57us/sample - loss: 1.7774 - accuracy: 0.3703 - val_loss: 1.7073 - val_accuracy: 0.4020\n",
      "Epoch 3/30\n",
      "45000/45000 [==============================] - 3s 58us/sample - loss: 1.6450 - accuracy: 0.4177 - val_loss: 1.6178 - val_accuracy: 0.4252\n",
      "Epoch 4/30\n",
      "45000/45000 [==============================] - 3s 56us/sample - loss: 1.5586 - accuracy: 0.4474 - val_loss: 1.5579 - val_accuracy: 0.4502\n",
      "Epoch 5/30\n",
      "45000/45000 [==============================] - 3s 56us/sample - loss: 1.4985 - accuracy: 0.4721 - val_loss: 1.5526 - val_accuracy: 0.4566\n",
      "Epoch 6/30\n",
      "45000/45000 [==============================] - 3s 56us/sample - loss: 1.4479 - accuracy: 0.4878 - val_loss: 1.5596 - val_accuracy: 0.4590\n",
      "Epoch 7/30\n",
      "45000/45000 [==============================] - 3s 58us/sample - loss: 1.4102 - accuracy: 0.4985 - val_loss: 1.5778 - val_accuracy: 0.4588\n",
      "Epoch 8/30\n",
      "45000/45000 [==============================] - 3s 56us/sample - loss: 1.3716 - accuracy: 0.5130 - val_loss: 1.5809 - val_accuracy: 0.4618\n",
      "Epoch 9/30\n",
      "45000/45000 [==============================] - 3s 57us/sample - loss: 1.3415 - accuracy: 0.5224 - val_loss: 1.5576 - val_accuracy: 0.4584\n",
      "Epoch 10/30\n",
      "45000/45000 [==============================] - 2s 55us/sample - loss: 1.3117 - accuracy: 0.5351 - val_loss: 1.5399 - val_accuracy: 0.4730\n",
      "Epoch 11/30\n",
      "45000/45000 [==============================] - 3s 57us/sample - loss: 1.2855 - accuracy: 0.5423 - val_loss: 1.5513 - val_accuracy: 0.4882\n",
      "Epoch 12/30\n",
      "45000/45000 [==============================] - 2s 55us/sample - loss: 1.2632 - accuracy: 0.5507 - val_loss: 1.6533 - val_accuracy: 0.4602\n",
      "Epoch 13/30\n",
      "45000/45000 [==============================] - 2s 55us/sample - loss: 1.2435 - accuracy: 0.5593 - val_loss: 1.5817 - val_accuracy: 0.4712\n",
      "Epoch 14/30\n",
      "45000/45000 [==============================] - 2s 55us/sample - loss: 1.2130 - accuracy: 0.5683 - val_loss: 1.5994 - val_accuracy: 0.4766\n",
      "Epoch 15/30\n",
      "45000/45000 [==============================] - 2s 55us/sample - loss: 1.1670 - accuracy: 0.5859 - val_loss: 1.5595 - val_accuracy: 0.4880\n",
      "Epoch 16/30\n",
      "45000/45000 [==============================] - 3s 56us/sample - loss: 1.1175 - accuracy: 0.6023 - val_loss: 1.6013 - val_accuracy: 0.4832\n",
      "Epoch 17/30\n",
      "45000/45000 [==============================] - 3s 57us/sample - loss: 1.0672 - accuracy: 0.6200 - val_loss: 1.5768 - val_accuracy: 0.4874\n",
      "Epoch 18/30\n",
      "45000/45000 [==============================] - 3s 56us/sample - loss: 1.0158 - accuracy: 0.6396 - val_loss: 1.5747 - val_accuracy: 0.5044\n",
      "Epoch 19/30\n",
      "45000/45000 [==============================] - 2s 55us/sample - loss: 0.9708 - accuracy: 0.6532 - val_loss: 1.5629 - val_accuracy: 0.5084\n",
      "Epoch 20/30\n",
      "45000/45000 [==============================] - 2s 55us/sample - loss: 0.9200 - accuracy: 0.6712 - val_loss: 1.6538 - val_accuracy: 0.5148\n",
      "Epoch 21/30\n",
      "45000/45000 [==============================] - 3s 56us/sample - loss: 0.8718 - accuracy: 0.6877 - val_loss: 1.6953 - val_accuracy: 0.5042\n",
      "Epoch 22/30\n",
      "45000/45000 [==============================] - 2s 55us/sample - loss: 0.8248 - accuracy: 0.7062 - val_loss: 1.7156 - val_accuracy: 0.5158\n",
      "Epoch 23/30\n",
      "45000/45000 [==============================] - 3s 57us/sample - loss: 0.7704 - accuracy: 0.7256 - val_loss: 1.7861 - val_accuracy: 0.5166\n",
      "Epoch 24/30\n",
      "45000/45000 [==============================] - 3s 56us/sample - loss: 0.7166 - accuracy: 0.7439 - val_loss: 1.8019 - val_accuracy: 0.5238\n",
      "Epoch 25/30\n",
      "45000/45000 [==============================] - 3s 56us/sample - loss: 0.6608 - accuracy: 0.7639 - val_loss: 1.9326 - val_accuracy: 0.5224\n",
      "Epoch 26/30\n",
      "45000/45000 [==============================] - 3s 57us/sample - loss: 0.6078 - accuracy: 0.7851 - val_loss: 2.0241 - val_accuracy: 0.5246\n",
      "Epoch 27/30\n",
      "45000/45000 [==============================] - 3s 57us/sample - loss: 0.5557 - accuracy: 0.8038 - val_loss: 2.0863 - val_accuracy: 0.5270\n",
      "Epoch 28/30\n",
      "45000/45000 [==============================] - 2s 55us/sample - loss: 0.5162 - accuracy: 0.8201 - val_loss: 2.1453 - val_accuracy: 0.5186\n",
      "Epoch 29/30\n",
      "45000/45000 [==============================] - 3s 58us/sample - loss: 0.4912 - accuracy: 0.8293 - val_loss: 2.1925 - val_accuracy: 0.5218\n",
      "Epoch 30/30\n",
      "45000/45000 [==============================] - 3s 57us/sample - loss: 0.4705 - accuracy: 0.8386 - val_loss: 2.2127 - val_accuracy: 0.5226\n"
     ]
    }
   ],
   "source": [
    "n_epochs = 30\n",
    "onecycle = OneCycleScheduler(len(X_train_scaled) // batch_size * n_epochs, max_rate=0.05)\n",
    "history = model.fit(X_train_scaled, y_train, epochs=n_epochs, batch_size=batch_size,\n",
    "                    validation_data=(X_valid_scaled, y_valid),\n",
    "                    callbacks=[onecycle])"
   ]
  },
  {
   "cell_type": "code",
   "execution_count": 67,
   "metadata": {},
   "outputs": [
    {
     "name": "stdout",
     "output_type": "stream",
     "text": [
      "5000/5000 [==============================] - 0s 96us/sample - loss: 2.2127 - accuracy: 0.5226\n"
     ]
    },
    {
     "data": {
      "text/plain": [
       "[2.212707152557373, 0.5226]"
      ]
     },
     "execution_count": 67,
     "metadata": {},
     "output_type": "execute_result"
    }
   ],
   "source": [
    "model.evaluate(X_valid_scaled, y_valid)"
   ]
  },
  {
   "cell_type": "code",
   "execution_count": 68,
   "metadata": {},
   "outputs": [
    {
     "name": "stdout",
     "output_type": "stream",
     "text": [
      "Model: \"sequential\"\n",
      "_________________________________________________________________\n",
      "Layer (type)                 Output Shape              Param #   \n",
      "=================================================================\n",
      "flatten (Flatten)            (None, 3072)              0         \n",
      "_________________________________________________________________\n",
      "dense (Dense)                (None, 100)               307300    \n",
      "_________________________________________________________________\n",
      "dense_1 (Dense)              (None, 100)               10100     \n",
      "_________________________________________________________________\n",
      "dense_2 (Dense)              (None, 100)               10100     \n",
      "_________________________________________________________________\n",
      "dense_3 (Dense)              (None, 100)               10100     \n",
      "_________________________________________________________________\n",
      "dense_4 (Dense)              (None, 100)               10100     \n",
      "_________________________________________________________________\n",
      "dense_5 (Dense)              (None, 100)               10100     \n",
      "_________________________________________________________________\n",
      "dense_6 (Dense)              (None, 100)               10100     \n",
      "_________________________________________________________________\n",
      "dense_7 (Dense)              (None, 100)               10100     \n",
      "_________________________________________________________________\n",
      "dense_8 (Dense)              (None, 100)               10100     \n",
      "_________________________________________________________________\n",
      "dense_9 (Dense)              (None, 100)               10100     \n",
      "_________________________________________________________________\n",
      "dense_10 (Dense)             (None, 100)               10100     \n",
      "_________________________________________________________________\n",
      "dense_11 (Dense)             (None, 100)               10100     \n",
      "_________________________________________________________________\n",
      "dense_12 (Dense)             (None, 100)               10100     \n",
      "_________________________________________________________________\n",
      "dense_13 (Dense)             (None, 100)               10100     \n",
      "_________________________________________________________________\n",
      "dense_14 (Dense)             (None, 100)               10100     \n",
      "_________________________________________________________________\n",
      "dense_15 (Dense)             (None, 100)               10100     \n",
      "_________________________________________________________________\n",
      "dense_16 (Dense)             (None, 100)               10100     \n",
      "_________________________________________________________________\n",
      "dense_17 (Dense)             (None, 100)               10100     \n",
      "_________________________________________________________________\n",
      "dense_18 (Dense)             (None, 100)               10100     \n",
      "_________________________________________________________________\n",
      "dense_19 (Dense)             (None, 100)               10100     \n",
      "_________________________________________________________________\n",
      "alpha_dropout (AlphaDropout) (None, 100)               0         \n",
      "_________________________________________________________________\n",
      "dense_20 (Dense)             (None, 10)                1010      \n",
      "=================================================================\n",
      "Total params: 500,210\n",
      "Trainable params: 500,210\n",
      "Non-trainable params: 0\n",
      "_________________________________________________________________\n"
     ]
    }
   ],
   "source": [
    "model.summary()"
   ]
  },
  {
   "cell_type": "code",
   "execution_count": null,
   "metadata": {},
   "outputs": [],
   "source": []
  }
 ],
 "metadata": {
  "kernelspec": {
   "display_name": "Python 3",
   "language": "python",
   "name": "python3"
  },
  "language_info": {
   "codemirror_mode": {
    "name": "ipython",
    "version": 3
   },
   "file_extension": ".py",
   "mimetype": "text/x-python",
   "name": "python",
   "nbconvert_exporter": "python",
   "pygments_lexer": "ipython3",
   "version": "3.7.7"
  }
 },
 "nbformat": 4,
 "nbformat_minor": 4
}
